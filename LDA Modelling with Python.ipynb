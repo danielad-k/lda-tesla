{
 "cells": [
  {
   "cell_type": "markdown",
   "metadata": {},
   "source": [
    "## Goal of this notebook is to look at whether LDA can generate multiple topics from news articles about TESLA. After we preprocess, a baseline LDA model will be created. Then, we will see if hyper parametrization improves performance by lookin at coherence score and human judgement"
   ]
  },
  {
   "cell_type": "code",
   "execution_count": 66,
   "metadata": {},
   "outputs": [],
   "source": [
    "import glob\n",
    "import gensim\n",
    "import nltk\n",
    "import pandas as pd\n",
    "from grid import utils as ut\n",
    "from grid import GridSearch as gs\n",
    "import string\n",
    "from nltk.stem import WordNetLemmatizer\n",
    "from nltk.stem import PorterStemmer\n",
    "from gensim import models\n",
    "from tqdm import tqdm\n",
    "import pyLDAvis.gensim\n",
    "import pickle \n",
    "import pyLDAvis\n",
    "import seaborn as sns"
   ]
  },
  {
   "cell_type": "code",
   "execution_count": 110,
   "metadata": {},
   "outputs": [],
   "source": [
    "\n",
    "def files_append(url):\n",
    "    \"\"\"\n",
    "    append data from multiple csvs into one csv\n",
    "    \"\"\"\n",
    "    data = []\n",
    "    for filepath in glob.iglob(url, recursive=True):\n",
    "        data.append(pd.read_csv(filepath, index_col=0))\n",
    "        return pd.concat(data)\n",
    "\n",
    "def text(data_frame, column):\n",
    "    df = pd.DataFrame(data_frame[column]).dropna()\n",
    "    df.columns = ['text']\n",
    "    return df\n",
    "\n",
    "def lem_stem(text):\n",
    "    \"\"\"\n",
    "    lemmatize and stemm\n",
    "    \"\"\"\n",
    "    lemmatizer = WordNetLemmatizer()\n",
    "    porter = PorterStemmer()\n",
    "    return porter.stem(lemmatizer.lemmatize(text, pos='v'))\n",
    "\n",
    "def preprocess(text, stopwords):\n",
    "    # remove stopwords and greater length 3\n",
    "    text_df = [lem_stem(t.lower()) for t in text if t.lower() not in stopwords and len(t) > 3]\n",
    "    return text_df\n"
   ]
  },
  {
   "cell_type": "code",
   "execution_count": 125,
   "metadata": {},
   "outputs": [],
   "source": [
    "#stopwords\n",
    "stopw = ['elon', 'musk', 'tesla', 'tsla','model','spacex','space','roadster', '(', ')', '$', 'vs.', 'co.', 'llc', '‘', '’', '“', '”', '--', \"'\"] + \\\n",
    "    list(gensim.parsing.preprocessing.STOPWORDS) + list(string.punctuation)\n",
    "\n"
   ]
  },
  {
   "cell_type": "code",
   "execution_count": 126,
   "metadata": {},
   "outputs": [
    {
     "name": "stderr",
     "output_type": "stream",
     "text": [
      "<>:2: DeprecationWarning: invalid escape sequence \\D\n",
      "<>:2: DeprecationWarning: invalid escape sequence \\D\n",
      "<>:2: DeprecationWarning: invalid escape sequence \\D\n",
      "<ipython-input-126-649f51d2ebfc>:2: DeprecationWarning: invalid escape sequence \\D\n",
      "  tesla = files_append('.\\Desktop\\Projects\\LDA\\Data\\*.csv')\n"
     ]
    }
   ],
   "source": [
    "#read in files from directory and append\n",
    "tesla = files_append('.\\Desktop\\Projects\\LDA\\Data\\*.csv')\n",
    "text_df = text(tesla,'title')\n",
    "text_df['index'] = text_df.index\n"
   ]
  },
  {
   "cell_type": "markdown",
   "metadata": {},
   "source": [
    "# 1. TESLA News Articles in 2018"
   ]
  },
  {
   "cell_type": "code",
   "execution_count": 127,
   "metadata": {},
   "outputs": [
    {
     "data": {
      "text/html": [
       "<div>\n",
       "<style scoped>\n",
       "    .dataframe tbody tr th:only-of-type {\n",
       "        vertical-align: middle;\n",
       "    }\n",
       "\n",
       "    .dataframe tbody tr th {\n",
       "        vertical-align: top;\n",
       "    }\n",
       "\n",
       "    .dataframe thead th {\n",
       "        text-align: right;\n",
       "    }\n",
       "</style>\n",
       "<table border=\"1\" class=\"dataframe\">\n",
       "  <thead>\n",
       "    <tr style=\"text-align: right;\">\n",
       "      <th></th>\n",
       "      <th>author</th>\n",
       "      <th>body_sentiment_pol</th>\n",
       "      <th>body_sentiment_score</th>\n",
       "      <th>characters_count</th>\n",
       "      <th>published.date</th>\n",
       "      <th>sentences_count</th>\n",
       "      <th>source.name</th>\n",
       "      <th>title</th>\n",
       "      <th>title_sentiment_pol</th>\n",
       "      <th>title_sentiment_score</th>\n",
       "    </tr>\n",
       "  </thead>\n",
       "  <tbody>\n",
       "    <tr>\n",
       "      <th>0</th>\n",
       "      <td>Chelsea Gohd</td>\n",
       "      <td>negative</td>\n",
       "      <td>0.940399</td>\n",
       "      <td>2325</td>\n",
       "      <td>2018-03-10 16:36:07+00:00</td>\n",
       "      <td>19</td>\n",
       "      <td>Futurism</td>\n",
       "      <td>Elon Musk says hyperloop will put pedestrians,...</td>\n",
       "      <td>neutral</td>\n",
       "      <td>0.963290</td>\n",
       "    </tr>\n",
       "    <tr>\n",
       "      <th>1</th>\n",
       "      <td>David Z. Morris</td>\n",
       "      <td>negative</td>\n",
       "      <td>0.750187</td>\n",
       "      <td>2228</td>\n",
       "      <td>2018-03-10 15:51:55+00:00</td>\n",
       "      <td>16</td>\n",
       "      <td>Fortune</td>\n",
       "      <td>Elon Musk's Boring Company is Pivoting To Focu...</td>\n",
       "      <td>negative</td>\n",
       "      <td>0.875677</td>\n",
       "    </tr>\n",
       "    <tr>\n",
       "      <th>2</th>\n",
       "      <td>Editordavid</td>\n",
       "      <td>negative</td>\n",
       "      <td>0.616712</td>\n",
       "      <td>647</td>\n",
       "      <td>2018-03-10 15:35:31+00:00</td>\n",
       "      <td>5</td>\n",
       "      <td>Slashdot</td>\n",
       "      <td>Elon Musk Changes 'Boring Company' Vision To R...</td>\n",
       "      <td>negative</td>\n",
       "      <td>0.590875</td>\n",
       "    </tr>\n",
       "    <tr>\n",
       "      <th>3</th>\n",
       "      <td>Mandy Boone</td>\n",
       "      <td>positive</td>\n",
       "      <td>0.486549</td>\n",
       "      <td>4618</td>\n",
       "      <td>2018-03-10 15:27:42+00:00</td>\n",
       "      <td>38</td>\n",
       "      <td>Stock News Times</td>\n",
       "      <td>Tesla Inc (NASDAQ:TSLA) Shares Bought by Toron...</td>\n",
       "      <td>neutral</td>\n",
       "      <td>0.934615</td>\n",
       "    </tr>\n",
       "    <tr>\n",
       "      <th>4</th>\n",
       "      <td>Xavier Holt</td>\n",
       "      <td>positive</td>\n",
       "      <td>0.821998</td>\n",
       "      <td>4014</td>\n",
       "      <td>2018-03-10 14:23:52+00:00</td>\n",
       "      <td>31</td>\n",
       "      <td>Dispatch Tribunal</td>\n",
       "      <td>Tesla (NASDAQ:TSLA) vs. Kandi Technologies Gro...</td>\n",
       "      <td>neutral</td>\n",
       "      <td>0.949705</td>\n",
       "    </tr>\n",
       "  </tbody>\n",
       "</table>\n",
       "</div>"
      ],
      "text/plain": [
       "            author body_sentiment_pol  body_sentiment_score  characters_count  \\\n",
       "0     Chelsea Gohd           negative              0.940399              2325   \n",
       "1  David Z. Morris           negative              0.750187              2228   \n",
       "2      Editordavid           negative              0.616712               647   \n",
       "3      Mandy Boone           positive              0.486549              4618   \n",
       "4      Xavier Holt           positive              0.821998              4014   \n",
       "\n",
       "              published.date  sentences_count        source.name  \\\n",
       "0  2018-03-10 16:36:07+00:00               19           Futurism   \n",
       "1  2018-03-10 15:51:55+00:00               16            Fortune   \n",
       "2  2018-03-10 15:35:31+00:00                5           Slashdot   \n",
       "3  2018-03-10 15:27:42+00:00               38   Stock News Times   \n",
       "4  2018-03-10 14:23:52+00:00               31  Dispatch Tribunal   \n",
       "\n",
       "                                               title title_sentiment_pol  \\\n",
       "0  Elon Musk says hyperloop will put pedestrians,...             neutral   \n",
       "1  Elon Musk's Boring Company is Pivoting To Focu...            negative   \n",
       "2  Elon Musk Changes 'Boring Company' Vision To R...            negative   \n",
       "3  Tesla Inc (NASDAQ:TSLA) Shares Bought by Toron...             neutral   \n",
       "4  Tesla (NASDAQ:TSLA) vs. Kandi Technologies Gro...             neutral   \n",
       "\n",
       "   title_sentiment_score  \n",
       "0               0.963290  \n",
       "1               0.875677  \n",
       "2               0.590875  \n",
       "3               0.934615  \n",
       "4               0.949705  "
      ]
     },
     "execution_count": 127,
     "metadata": {},
     "output_type": "execute_result"
    }
   ],
   "source": [
    "tesla.head()"
   ]
  },
  {
   "cell_type": "markdown",
   "metadata": {},
   "source": [
    "# 2. PREPROCESS"
   ]
  },
  {
   "cell_type": "code",
   "execution_count": 128,
   "metadata": {},
   "outputs": [],
   "source": [
    "word = []\n",
    "#tokenize the data\n",
    "for s in text_df.text:\n",
    "    word.append(nltk.word_tokenize(s))\n",
    "\n",
    "# apply preprocessing: lemmatize and lower\n",
    "proces_doc = list(map(lambda x: preprocess(x, stopw), word))"
   ]
  },
  {
   "cell_type": "code",
   "execution_count": 129,
   "metadata": {},
   "outputs": [
    {
     "data": {
      "text/plain": [
       "[['say', 'hyperloop', 'pedestrian', 'mass', 'transit'],\n",
       " ['bore', 'compani', 'pivot', 'focu', 'move', 'pedestrian'],\n",
       " ['chang',\n",
       "  \"'bore\",\n",
       "  'compani',\n",
       "  'vision',\n",
       "  'reward',\n",
       "  'cyclist',\n",
       "  'pedestrian',\n",
       "  'slashdot'],\n",
       " ['nasdaq', 'share', 'buy', 'toronto', 'dominion', 'bank'],\n",
       " ['nasdaq', 'kandi', 'technolog', 'group', 'kndi', 'critic', 'survey']]"
      ]
     },
     "execution_count": 129,
     "metadata": {},
     "output_type": "execute_result"
    }
   ],
   "source": [
    "#process doc\n",
    "proces_doc[:5]"
   ]
  },
  {
   "cell_type": "code",
   "execution_count": 131,
   "metadata": {},
   "outputs": [],
   "source": [
    "#convert to dictionary\n",
    "dictionary = gensim.corpora.Dictionary(proces_doc)\n",
    "#filter extremes\n",
    "dictionary.filter_extremes(no_below=2, no_above=1, keep_n=100000)"
   ]
  },
  {
   "cell_type": "code",
   "execution_count": 132,
   "metadata": {},
   "outputs": [],
   "source": [
    "bow_corpus = [dictionary.doc2bow(doc) for doc in proces_doc]\n",
    "tfidf = models.TfidfModel(bow_corpus)\n",
    "corpus_tfidf = tfidf[bow_corpus]"
   ]
  },
  {
   "cell_type": "code",
   "execution_count": 133,
   "metadata": {},
   "outputs": [
    {
     "data": {
      "text/plain": [
       "[[(0, 1), (1, 1), (2, 1), (3, 1), (4, 1)],\n",
       " [(2, 1), (5, 1), (6, 1), (7, 1), (8, 1)],\n",
       " [(2, 1), (6, 1), (9, 1), (10, 1), (11, 1), (12, 1), (13, 1), (14, 1)],\n",
       " [(15, 1), (16, 1), (17, 1), (18, 1), (19, 1), (20, 1)],\n",
       " [(18, 1), (21, 1), (22, 1), (23, 1), (24, 1), (25, 1), (26, 1)]]"
      ]
     },
     "execution_count": 133,
     "metadata": {},
     "output_type": "execute_result"
    }
   ],
   "source": [
    "bow_corpus[:5]"
   ]
  },
  {
   "cell_type": "markdown",
   "metadata": {},
   "source": [
    "# 3. LDA Basic Model"
   ]
  },
  {
   "cell_type": "raw",
   "metadata": {},
   "source": [
    "For this model, we will use LDA model and u_mass metric to evaluate coherence. "
   ]
  },
  {
   "cell_type": "code",
   "execution_count": 152,
   "metadata": {},
   "outputs": [],
   "source": [
    "#list params in a dictionary\n",
    "dicts_lda_base = {'num_topics': list(range(1,10))}\n",
    "\n",
    "# make list of dicts\n",
    "dict_conv_base = ut.param_dict_convert(dicts_lda_base)\n",
    "dict_update_base = ut.param_dict_convert(dicts_lda_base)"
   ]
  },
  {
   "cell_type": "code",
   "execution_count": 63,
   "metadata": {},
   "outputs": [
    {
     "data": {
      "text/plain": [
       "[{'num_topics': 1},\n",
       " {'num_topics': 2},\n",
       " {'num_topics': 3},\n",
       " {'num_topics': 4},\n",
       " {'num_topics': 5},\n",
       " {'num_topics': 6},\n",
       " {'num_topics': 7},\n",
       " {'num_topics': 8},\n",
       " {'num_topics': 9}]"
      ]
     },
     "execution_count": 63,
     "metadata": {},
     "output_type": "execute_result"
    }
   ],
   "source": [
    "dict_conv_base"
   ]
  },
  {
   "cell_type": "code",
   "execution_count": 153,
   "metadata": {},
   "outputs": [
    {
     "name": "stderr",
     "output_type": "stream",
     "text": [
      "100%|████████████████████████████████████████████████████████████████████████████████████| 9/9 [00:42<00:00,  4.51s/it]\n"
     ]
    }
   ],
   "source": [
    "with tqdm(total=len(dict_update_base)) as pbar:\n",
    "    for x in dict_update_base:\n",
    "        x['coherence'] = gs.GridSearch(bow_corpus, dictionary, x).get_coherence_score('lda-multicore', proces_doc, 'u_mass')\n",
    "        pbar.update(1)"
   ]
  },
  {
   "cell_type": "code",
   "execution_count": 154,
   "metadata": {},
   "outputs": [
    {
     "data": {
      "text/html": [
       "<div>\n",
       "<style scoped>\n",
       "    .dataframe tbody tr th:only-of-type {\n",
       "        vertical-align: middle;\n",
       "    }\n",
       "\n",
       "    .dataframe tbody tr th {\n",
       "        vertical-align: top;\n",
       "    }\n",
       "\n",
       "    .dataframe thead th {\n",
       "        text-align: right;\n",
       "    }\n",
       "</style>\n",
       "<table border=\"1\" class=\"dataframe\">\n",
       "  <thead>\n",
       "    <tr style=\"text-align: right;\">\n",
       "      <th></th>\n",
       "      <th>index</th>\n",
       "      <th>coherence</th>\n",
       "      <th>num_topics</th>\n",
       "    </tr>\n",
       "  </thead>\n",
       "  <tbody>\n",
       "    <tr>\n",
       "      <th>0</th>\n",
       "      <td>1</td>\n",
       "      <td>-10.418527</td>\n",
       "      <td>2</td>\n",
       "    </tr>\n",
       "    <tr>\n",
       "      <th>1</th>\n",
       "      <td>2</td>\n",
       "      <td>-11.623182</td>\n",
       "      <td>3</td>\n",
       "    </tr>\n",
       "    <tr>\n",
       "      <th>2</th>\n",
       "      <td>0</td>\n",
       "      <td>-11.973809</td>\n",
       "      <td>1</td>\n",
       "    </tr>\n",
       "    <tr>\n",
       "      <th>3</th>\n",
       "      <td>5</td>\n",
       "      <td>-12.102552</td>\n",
       "      <td>6</td>\n",
       "    </tr>\n",
       "    <tr>\n",
       "      <th>4</th>\n",
       "      <td>7</td>\n",
       "      <td>-12.540774</td>\n",
       "      <td>8</td>\n",
       "    </tr>\n",
       "  </tbody>\n",
       "</table>\n",
       "</div>"
      ],
      "text/plain": [
       "   index  coherence  num_topics\n",
       "0      1 -10.418527           2\n",
       "1      2 -11.623182           3\n",
       "2      0 -11.973809           1\n",
       "3      5 -12.102552           6\n",
       "4      7 -12.540774           8"
      ]
     },
     "execution_count": 154,
     "metadata": {},
     "output_type": "execute_result"
    }
   ],
   "source": [
    "output = ut.convert_coherence_df(dict_update_base).reset_index()\n",
    "output.head()"
   ]
  },
  {
   "cell_type": "markdown",
   "metadata": {},
   "source": [
    "#### Topic Num 2 has the highest coherence!"
   ]
  },
  {
   "cell_type": "code",
   "execution_count": 155,
   "metadata": {},
   "outputs": [
    {
     "data": {
      "text/plain": [
       "<matplotlib.axes._subplots.AxesSubplot at 0x29ebb925c18>"
      ]
     },
     "execution_count": 155,
     "metadata": {},
     "output_type": "execute_result"
    },
    {
     "data": {
      "image/png": "[encoded data removed]",
      "text/plain": [
       "<Figure size 432x288 with 1 Axes>"
      ]
     },
     "metadata": {
      "needs_background": "light"
     },
     "output_type": "display_data"
    }
   ],
   "source": [
    "sns.lineplot(x=\"num_topics\", y=\"coherence\", data= output)"
   ]
  },
  {
   "cell_type": "code",
   "execution_count": 159,
   "metadata": {},
   "outputs": [
    {
     "name": "stdout",
     "output_type": "stream",
     "text": [
      "Topic: 0 \n",
      "Words: 0.016*\"falcon\" + 0.015*\"launch\" + 0.014*\"say\" + 0.014*\"rocket\" + 0.012*\"heavi\" + 0.011*\"product\" + 0.008*\"mar\" + 0.008*\"plan\" + 0.007*\"delay\" + 0.007*\"sell\"\n",
      "Topic: 1 \n",
      "Words: 0.026*\"launch\" + 0.023*\"flamethrow\" + 0.016*\"heavi\" + 0.015*\"sell\" + 0.014*\"falcon\" + 0.013*\"bore\" + 0.012*\"compani\" + 0.012*\"rocket\" + 0.007*\"mar\" + 0.006*\"electr\"\n"
     ]
    }
   ],
   "source": [
    "lda_model = gs.GridSearch(bow_corpus, dictionary, dict_conv_base[1]).nlp_model('lda-multicore')\n",
    "for idx, topic in lda_model.print_topics(-1):\n",
    "    print('Topic: {} \\nWords: {}'.format(idx, topic))"
   ]
  },
  {
   "cell_type": "raw",
   "metadata": {},
   "source": [
    "There are still some topics that seem to be different: such as Trump and China..Maybe, we should look at the next topic!"
   ]
  },
  {
   "cell_type": "code",
   "execution_count": 157,
   "metadata": {},
   "outputs": [
    {
     "name": "stderr",
     "output_type": "stream",
     "text": [
      "C:\\Users\\daniela.kutleva\\AppData\\Local\\Continuum\\anaconda3\\lib\\site-packages\\pyLDAvis\\_prepare.py:257: FutureWarning: Sorting because non-concatenation axis is not aligned. A future version\n",
      "of pandas will change to not sort by default.\n",
      "\n",
      "To accept the future behavior, pass 'sort=False'.\n",
      "\n",
      "To retain the current behavior and silence the warning, pass 'sort=True'.\n",
      "\n",
      "  return pd.concat([default_term_info] + list(topic_dfs))\n"
     ]
    },
    {
     "data": {
      "text/html": [
       "\n",
       "<link rel=\"stylesheet\" type=\"text/css\" href=\"https://cdn.rawgit.com/bmabey/pyLDAvis/files/ldavis.v1.0.0.css\">\n",
       "\n",
       "\n",
       "<div id=\"ldavis_el2894428808961741441157667223\"></div>\n",
       "<script type=\"text/javascript\">\n",
       "\n",
       "var ldavis_el2894428808961741441157667223_data = {\"mdsDat\": {\"x\": [0.03438514843583107, -0.03438514843583107], \"y\": [0.0, 0.0], \"topics\": [1, 2], \"cluster\": [1, 1], \"Freq\": [51.688594818115234, 48.3114128112793]}, \"tinfo\": {\"Category\": [\"Default\", \"Default\", \"Default\", \"Default\", \"Default\", \"Default\", \"Default\", \"Default\", \"Default\", \"Default\", \"Default\", \"Default\", \"Default\", \"Default\", \"Default\", \"Default\", \"Default\", \"Default\", \"Default\", \"Default\", \"Default\", \"Default\", \"Default\", \"Default\", \"Default\", \"Default\", \"Default\", \"Default\", \"Default\", \"Default\", \"Topic1\", \"Topic1\", \"Topic1\", \"Topic1\", \"Topic1\", \"Topic1\", \"Topic1\", \"Topic1\", \"Topic1\", \"Topic1\", \"Topic1\", \"Topic1\", \"Topic1\", \"Topic1\", \"Topic1\", \"Topic1\", \"Topic1\", \"Topic1\", \"Topic1\", \"Topic1\", \"Topic1\", \"Topic1\", \"Topic1\", \"Topic1\", \"Topic1\", \"Topic1\", \"Topic1\", \"Topic1\", \"Topic1\", \"Topic1\", \"Topic1\", \"Topic1\", \"Topic1\", \"Topic1\", \"Topic1\", \"Topic1\", \"Topic1\", \"Topic1\", \"Topic1\", \"Topic1\", \"Topic1\", \"Topic1\", \"Topic1\", \"Topic1\", \"Topic1\", \"Topic1\", \"Topic1\", \"Topic1\", \"Topic1\", \"Topic1\", \"Topic1\", \"Topic1\", \"Topic1\", \"Topic1\", \"Topic1\", \"Topic1\", \"Topic1\", \"Topic1\", \"Topic1\", \"Topic1\", \"Topic1\", \"Topic1\", \"Topic1\", \"Topic1\", \"Topic1\", \"Topic1\", \"Topic1\", \"Topic1\", \"Topic1\", \"Topic1\", \"Topic2\", \"Topic2\", \"Topic2\", \"Topic2\", \"Topic2\", \"Topic2\", \"Topic2\", \"Topic2\", \"Topic2\", \"Topic2\", \"Topic2\", \"Topic2\", \"Topic2\", \"Topic2\", \"Topic2\", \"Topic2\", \"Topic2\", \"Topic2\", \"Topic2\", \"Topic2\", \"Topic2\", \"Topic2\", \"Topic2\", \"Topic2\", \"Topic2\", \"Topic2\", \"Topic2\", \"Topic2\", \"Topic2\", \"Topic2\", \"Topic2\", \"Topic2\", \"Topic2\", \"Topic2\", \"Topic2\", \"Topic2\", \"Topic2\", \"Topic2\", \"Topic2\", \"Topic2\", \"Topic2\", \"Topic2\", \"Topic2\", \"Topic2\", \"Topic2\", \"Topic2\", \"Topic2\", \"Topic2\", \"Topic2\", \"Topic2\", \"Topic2\", \"Topic2\", \"Topic2\", \"Topic2\", \"Topic2\", \"Topic2\", \"Topic2\", \"Topic2\", \"Topic2\", \"Topic2\", \"Topic2\", \"Topic2\", \"Topic2\", \"Topic2\", \"Topic2\", \"Topic2\", \"Topic2\", \"Topic2\", \"Topic2\", \"Topic2\", \"Topic2\", \"Topic2\", \"Topic2\", \"Topic2\", \"Topic2\", \"Topic2\", \"Topic2\", \"Topic2\", \"Topic2\"], \"Freq\": [247.0, 128.0, 343.0, 237.0, 131.0, 62.0, 50.0, 144.0, 49.0, 25.0, 96.0, 27.0, 107.0, 38.0, 30.0, 57.0, 28.0, 68.0, 37.0, 30.0, 28.0, 28.0, 49.0, 21.0, 20.0, 39.0, 30.0, 18.0, 52.0, 48.0, 13.102484703063965, 114.06414794921875, 7.203612804412842, 18.9979248046875, 43.26108932495117, 5.491589546203613, 6.275942325592041, 7.841218948364258, 3.9201087951660156, 3.904332399368286, 9.349067687988281, 10.869160652160645, 5.425548076629639, 5.423810005187988, 4.6383466720581055, 5.411287784576416, 3.8648698329925537, 5.383153438568115, 23.801212310791016, 3.067431688308716, 3.0646636486053467, 9.190704345703125, 4.593794345855713, 6.87766695022583, 5.344350337982178, 3.0462186336517334, 6.849952220916748, 6.839442729949951, 3.7992680072784424, 3.037869930267334, 202.40834045410156, 14.36526107788086, 40.51641082763672, 18.571664810180664, 18.57021141052246, 174.73297119140625, 16.16823387145996, 30.636518478393555, 244.41925048828125, 44.05876159667969, 104.9773178100586, 70.01371765136719, 36.36324691772461, 22.44397735595703, 13.78217887878418, 30.457883834838867, 22.734464645385742, 61.6087760925293, 33.26907730102539, 45.130958557128906, 29.89870834350586, 40.6038703918457, 149.18881225585938, 87.9168701171875, 106.5951156616211, 96.63863372802734, 29.88662338256836, 67.62664794921875, 30.301300048828125, 42.00193405151367, 42.8314094543457, 32.92159652709961, 41.8997802734375, 37.643524169921875, 35.893775939941406, 33.19908142089844, 37.468505859375, 34.10763931274414, 32.6444206237793, 34.25251007080078, 8.174814224243164, 7.32267427444458, 8.0960693359375, 7.259143352508545, 5.586608409881592, 10.307339668273926, 4.719972610473633, 7.049229621887207, 10.176230430603027, 12.45843505859375, 10.102140426635742, 4.645009517669678, 21.650182723999023, 7.704926490783691, 5.38103723526001, 11.52995777130127, 7.675421237945557, 4.563873291015625, 5.323685646057129, 3.791158676147461, 4.543913841247559, 15.140384674072266, 3.78316593170166, 3.009019613265991, 3.756777763366699, 22.511518478393555, 10.496757507324219, 4.488919734954834, 6.716885089874268, 4.4711012840271, 17.084674835205078, 9.66582202911377, 50.23603057861328, 23.36446189880371, 24.666095733642578, 11.787684440612793, 23.045307159423828, 24.22948455810547, 97.6921615600586, 29.986034393310547, 28.97432518005371, 13.623805046081543, 23.268388748168945, 47.45600509643555, 35.31263732910156, 70.18238067626953, 36.15419387817383, 22.53341293334961, 42.733856201171875, 39.67832946777344, 21.70747947692871, 34.33043670654297, 40.513702392578125, 24.269493103027344, 27.218862533569336, 105.39727020263672, 20.420106887817383, 93.62918853759766, 28.79073143005371, 26.89488983154297, 45.55666732788086, 67.36756134033203, 109.18550109863281, 76.1202392578125, 34.63242721557617, 45.056575775146484, 36.8785285949707, 41.087310791015625, 38.89414978027344, 98.77664184570312, 29.38381004333496, 36.648738861083984, 62.30043029785156, 36.02070617675781, 31.883827209472656, 39.39387130737305, 44.8228645324707, 32.03395080566406, 32.334327697753906], \"Term\": [\"falcon\", \"bore\", \"launch\", \"heavi\", \"mar\", \"semi\", \"sale\", \"compani\", \"like\", \"dream\", \"delay\", \"today\", \"plan\", \"head\", \"biggest\", \"get\", \"review\", \"world\", \"reveal\", \"spot\", \"think\", \"shoot\", \"technolog\", \"grow\", \"human\", \"trade\", \"chief\", \"break\", \"billion\", \"batteri\", \"explain\", \"bore\", \"spur\", \"grow\", \"sale\", \"reaction\", \"permit\", \"side\", \"sound\", \"transport\", \"bigger\", \"pedestrian\", \"shoe\", \"imperson\", \"'hard\", \"histori\", \"ebay\", \"bear\", \"shoot\", \"'holi\", \"f**k\", \"concern\", \"steal\", \"fastest\", \"pre-ord\", \"obama\", \"overal\", \"scammer\", \"let\", \"taxi\", \"falcon\", \"chevi\", \"like\", \"huge\", \"donald\", \"heavi\", \"custom\", \"trade\", \"launch\", \"get\", \"compani\", \"delay\", \"batteri\", \"race\", \"credit\", \"packag\", \"hyperloop\", \"trump\", \"want\", \"million\", \"success\", \"go\", \"flamethrow\", \"say\", \"rocket\", \"sell\", \"parti\", \"product\", \"goal\", \"target\", \"nasdaq\", \"news\", \"earth\", \"china\", \"watch\", \"orbit\", \"plan\", \"electr\", \"power\", \"mar\", \"peak\", \"threaten\", \"safeti\", \"shanghai\", \"standoff\", \"aboard\", \"calm\", \"uneven\", \"imag\", \"creat\", \"life\", \"11,925\", \"dream\", \"away\", \"easter\", \"account\", \"eric\", \"twtr\", \"skoda\", \"aapl\", \"squar\", \"break\", \"e-truck\", \"highway\", \"sacramento\", \"today\", \"compar\", \"goog\", \"fremont\", \"throw\", \"human\", \"land\", \"semi\", \"review\", \"biggest\", \"gigafactori\", \"think\", \"spot\", \"mar\", \"head\", \"reveal\", \"lose\", \"chief\", \"world\", \"technolog\", \"plan\", \"billion\", \"analyst\", \"share\", \"stock\", \"post\", \"truck\", \"group\", \"market\", \"amber\", \"rocket\", \"charg\", \"sell\", \"make\", \"starman\", \"electr\", \"product\", \"flamethrow\", \"say\", \"test\", \"earth\", \"car\", \"watch\", \"power\", \"launch\", \"solar\", \"china\", \"heavi\", \"nasdaq\", \"send\", \"compani\", \"falcon\", \"orbit\", \"target\"], \"Total\": [247.0, 128.0, 343.0, 237.0, 131.0, 62.0, 50.0, 144.0, 49.0, 25.0, 96.0, 27.0, 107.0, 38.0, 30.0, 57.0, 28.0, 68.0, 37.0, 30.0, 28.0, 28.0, 49.0, 21.0, 20.0, 39.0, 30.0, 18.0, 52.0, 48.0, 14.555852890014648, 128.26206970214844, 8.186054229736328, 21.825347900390625, 50.0131950378418, 6.365769863128662, 7.275008201599121, 9.093751907348633, 4.547062873840332, 4.546802520751953, 10.911781311035156, 12.72983455657959, 6.365119934082031, 6.365197658538818, 5.455511569976807, 6.364975929260254, 4.546474456787109, 6.3647966384887695, 28.18577766418457, 3.6370596885681152, 3.6369504928588867, 10.909704208374023, 5.454830646514893, 8.18232536315918, 6.364091396331787, 3.636904239654541, 8.181529998779297, 8.181719779968262, 4.545976161956787, 3.636713743209839, 247.231201171875, 17.27205467224121, 49.987831115722656, 22.722414016723633, 22.723413467407227, 237.0334014892578, 19.994815826416016, 39.07273864746094, 343.1958923339844, 57.23333740234375, 144.37118530273438, 96.25323486328125, 48.14139938354492, 29.06917953491211, 17.26614761352539, 40.86426544189453, 29.977001190185547, 88.9619140625, 45.40746307373047, 64.45111083984375, 40.86473846435547, 58.09757995605469, 258.37432861328125, 164.037109375, 211.9923858642578, 190.267822265625, 44.47150421142578, 134.99420166015625, 46.278018951416016, 74.33625793457031, 78.85211181640625, 56.21501159667969, 86.95635986328125, 74.29226684570312, 76.98108673095703, 65.2330322265625, 107.65088653564453, 79.664306640625, 71.53857421875, 131.94467163085938, 9.023360252380371, 8.121222496032715, 9.023662567138672, 8.121604919433594, 6.317543983459473, 11.73288345336914, 5.415668964385986, 8.124040603637695, 11.734209060668945, 14.442930221557617, 11.735125541687012, 5.416384696960449, 25.274965286254883, 9.02796459197998, 6.319669723510742, 13.541409492492676, 9.02785873413086, 5.4171857833862305, 6.320575714111328, 4.5146074295043945, 5.417198181152344, 18.056861877441406, 4.514704704284668, 3.6119675636291504, 4.514767646789551, 27.086780548095703, 12.641672134399414, 5.4177398681640625, 8.126502990722656, 5.418206214904785, 20.769695281982422, 11.739758491516113, 62.319305419921875, 28.901466369628906, 30.710500717163086, 14.449796676635742, 28.90421485900879, 30.71025848388672, 131.94467163085938, 38.8500862121582, 37.94915771484375, 17.161916732788086, 30.72325325012207, 68.71861267089844, 49.72222900390625, 107.65088653564453, 52.44681930541992, 30.7262020111084, 66.03836059570312, 60.603355407714844, 29.828292846679688, 51.55400085449219, 63.331756591796875, 34.35498809814453, 39.784095764160156, 211.9923858642578, 28.020326614379883, 190.267822265625, 43.41505432128906, 39.790061950683594, 79.664306640625, 134.99420166015625, 258.37432861328125, 164.037109375, 56.10316848754883, 86.95635986328125, 64.27580261230469, 76.98108673095703, 71.53857421875, 343.1958923339844, 46.14020538330078, 74.29226684570312, 237.0334014892578, 78.85211181640625, 58.86328125, 144.37118530273438, 247.231201171875, 65.2330322265625, 74.33625793457031], \"loglift\": [30.0, 29.0, 28.0, 27.0, 26.0, 25.0, 24.0, 23.0, 22.0, 21.0, 20.0, 19.0, 18.0, 17.0, 16.0, 15.0, 14.0, 13.0, 12.0, 11.0, 10.0, 9.0, 8.0, 7.0, 6.0, 5.0, 4.0, 3.0, 2.0, 1.0, 0.5547000169754028, 0.5425999760627747, 0.5321000218391418, 0.5212000012397766, 0.5149000287055969, 0.5121999979019165, 0.5121999979019165, 0.5116999745368958, 0.5116000175476074, 0.5076000094413757, 0.5054000020027161, 0.5019000172615051, 0.5001999735832214, 0.4999000132083893, 0.4977000057697296, 0.4975999891757965, 0.4975000023841858, 0.49239999055862427, 0.4909000098705292, 0.4896000027656555, 0.4887000024318695, 0.4884999990463257, 0.48809999227523804, 0.4862000048160553, 0.4853000044822693, 0.482699990272522, 0.4823000133037567, 0.48069998621940613, 0.4805000126361847, 0.47999998927116394, 0.45989999175071716, 0.4756999909877777, 0.4499000012874603, 0.45820000767707825, 0.45809999108314514, 0.35499998927116394, 0.44749999046325684, 0.41670000553131104, 0.320499986410141, 0.3982999920845032, 0.34130001068115234, 0.3416000008583069, 0.37929999828338623, 0.40130001306533813, 0.43459999561309814, 0.3659999966621399, 0.38339999318122864, 0.29249998927116394, 0.3488999903202057, 0.303600013256073, 0.3474999964237213, 0.30169999599456787, 0.11069999635219574, 0.03620000183582306, -0.02759999968111515, -0.017500000074505806, 0.26249998807907104, -0.031300000846385956, 0.23649999499320984, 0.08910000324249268, 0.04960000142455101, 0.12489999830722809, -0.07020000368356705, -0.019899999722838402, -0.1031000018119812, -0.01549999974668026, -0.3955000042915344, -0.188400000333786, -0.12460000067949295, -0.6887000203132629, 0.6287000179290771, 0.6240000128746033, 0.6190000176429749, 0.6151999831199646, 0.6044999957084656, 0.5979999899864197, 0.5899999737739563, 0.5856000185012817, 0.5849999785423279, 0.5796999931335449, 0.5777000188827515, 0.5738999843597412, 0.572700023651123, 0.5690000057220459, 0.5666999816894531, 0.5666999816894531, 0.5651999711990356, 0.5561000108718872, 0.555899977684021, 0.5529000163078308, 0.5516999959945679, 0.5512999892234802, 0.5507000088691711, 0.5449000000953674, 0.5436999797821045, 0.5425000190734863, 0.5415999889373779, 0.5393999814987183, 0.5370000004768372, 0.5353999733924866, 0.5321999788284302, 0.5331000089645386, 0.5120000243186951, 0.5148000121116638, 0.5083000063896179, 0.5238999724388123, 0.5009999871253967, 0.49050000309944153, 0.4268999993801117, 0.4684999883174896, 0.4577000141143799, 0.4966000020503998, 0.4496000111103058, 0.3573000133037567, 0.38530001044273376, 0.299699991941452, 0.3555000126361847, 0.4174000024795532, 0.2922999858856201, 0.30399999022483826, 0.4097000062465668, 0.32089999318122864, 0.2808000147342682, 0.3799999952316284, 0.34790000319480896, 0.028699999675154686, 0.41110000014305115, 0.018400000408291817, 0.3167000114917755, 0.3357999920845032, 0.16859999299049377, 0.03240000084042549, -0.1339000016450882, -0.040300000458955765, 0.2451000064611435, 0.07000000029802322, 0.17190000414848328, 0.09960000216960907, 0.11810000240802765, -0.5178999900817871, 0.27630001306533813, 0.020899999886751175, -0.6086999773979187, -0.0560000017285347, 0.1143999993801117, -0.5713000297546387, -0.9800999760627747, 0.016300000250339508, -0.10499999672174454], \"logprob\": [30.0, 29.0, 28.0, 27.0, 26.0, 25.0, 24.0, 23.0, 22.0, 21.0, 20.0, 19.0, 18.0, 17.0, 16.0, 15.0, 14.0, 13.0, 12.0, 11.0, 10.0, 9.0, 8.0, 7.0, 6.0, 5.0, 4.0, 3.0, 2.0, 1.0, -6.496799945831299, -4.332900047302246, -7.09499979019165, -6.12529993057251, -5.3024001121521, -7.366399765014648, -7.232900142669678, -7.010200023651123, -7.703499794006348, -7.707499980926514, -6.8343000411987305, -6.683700084686279, -7.378499984741211, -7.378799915313721, -7.535299777984619, -7.381100177764893, -7.717700004577637, -7.386300086975098, -5.899899959564209, -7.948800086975098, -7.949699878692627, -6.851399898529053, -7.544899940490723, -7.141300201416016, -7.393599987030029, -7.955699920654297, -7.145400047302246, -7.146900177001953, -7.734799861907959, -7.958499908447266, -3.7592999935150146, -6.404799938201904, -5.3678998947143555, -6.1479997634887695, -6.148099899291992, -3.906399965286255, -6.286600112915039, -5.64739990234375, -3.57069993019104, -5.28410005569458, -4.415900230407715, -4.820899963378906, -5.476099967956543, -5.958600044250488, -6.446199893951416, -5.653299808502197, -5.945700168609619, -4.948800086975098, -5.565000057220459, -5.260000228881836, -5.671800136566162, -5.365799903869629, -4.0644001960754395, -4.593200206756592, -4.400599956512451, -4.498600006103516, -5.6722002029418945, -4.855599880218506, -5.658400058746338, -5.331900119781494, -5.312300205230713, -5.575500011444092, -5.3343000411987305, -5.441500186920166, -5.489099979400635, -5.5671000480651855, -5.446100234985352, -5.54010009765625, -5.583899974822998, -5.535900115966797, -6.901000022888184, -7.011099815368652, -6.910699844360352, -7.019800186157227, -7.281700134277344, -6.6691999435424805, -7.450200080871582, -7.049099922180176, -6.682000160217285, -6.479700088500977, -6.689300060272217, -7.466300010681152, -5.927000045776367, -6.96019983291626, -7.319200038909912, -6.55709981918335, -6.964000225067139, -7.48390007019043, -7.329899787902832, -7.669400215148926, -7.48829984664917, -6.2846999168396, -7.671500205993652, -7.900400161743164, -7.678500175476074, -5.888000011444092, -6.651000022888184, -7.500400066375732, -7.097400188446045, -7.50439977645874, -6.163899898529053, -6.733500003814697, -5.085299968719482, -5.850800037384033, -5.796599864959717, -6.534999847412109, -5.86460018157959, -5.814499855041504, -4.420199871063232, -5.60129976272583, -5.6356000900268555, -6.390200138092041, -5.855000019073486, -5.142199993133545, -5.43779993057251, -4.750999927520752, -5.414299964904785, -5.88700008392334, -5.247099876403809, -5.321199893951416, -5.9243998527526855, -5.466000080108643, -5.3003997802734375, -5.81279993057251, -5.6981000900268555, -4.344299793243408, -5.985499858856201, -4.462699890136719, -5.642000198364258, -5.710100173950195, -5.18310022354126, -4.791900157928467, -4.309000015258789, -4.6697001457214355, -5.457300186157227, -5.1940999031066895, -5.394400119781494, -5.286300182342529, -5.34119987487793, -4.409200191497803, -5.621600151062012, -5.400700092315674, -4.870100021362305, -5.418000221252441, -5.539899826049805, -5.328400135040283, -5.1992998123168945, -5.535299777984619, -5.525899887084961]}, \"token.table\": {\"Topic\": [1, 2, 1, 2, 1, 2, 1, 2, 1, 2, 1, 2, 1, 2, 1, 2, 1, 2, 1, 2, 1, 2, 1, 2, 1, 2, 1, 2, 1, 2, 1, 2, 1, 2, 1, 2, 1, 2, 1, 2, 1, 2, 1, 2, 1, 2, 1, 2, 1, 2, 1, 2, 1, 2, 1, 2, 1, 2, 1, 2, 1, 2, 1, 2, 1, 2, 1, 2, 1, 2, 1, 2, 1, 2, 1, 2, 1, 2, 1, 2, 1, 2, 1, 2, 1, 2, 1, 2, 1, 2, 1, 2, 1, 2, 1, 2, 1, 2, 1, 2, 1, 2, 1, 2, 1, 2, 1, 2, 1, 2, 1, 2, 1, 2, 1, 2, 1, 2, 1, 2, 1, 2, 1, 2, 1, 2, 1, 2, 1, 2, 1, 2, 1, 2, 1, 2, 1, 2, 1, 2, 1, 2, 1, 2, 1, 2, 1, 2, 1, 2, 1, 2, 1, 2, 1, 2, 1, 2, 1, 2, 1, 2, 1, 2, 1, 2, 1, 2, 1, 2, 1, 2, 1, 2, 1, 2, 1, 2, 1, 2, 1, 2, 1, 2, 1, 2, 1, 2, 1, 2, 1, 2, 1, 2, 1, 2, 1, 2, 1, 2, 1, 2, 1, 2, 1, 2, 1, 2, 1, 2, 1, 2, 1, 2, 1, 2, 1, 2, 1, 2, 1, 2, 1, 2, 1, 2, 1, 2, 1, 2, 1, 2, 1, 2, 1, 2, 1, 2, 1, 2, 1, 2, 1, 2, 1, 2, 1, 2, 1, 2, 1, 2, 1, 2, 1, 2, 1, 2, 1, 2], \"Freq\": [0.9165043234825134, 0.18330086767673492, 0.824842095375061, 0.2749473750591278, 0.18462499976158142, 0.9231249690055847, 0.22150319814682007, 0.8860127925872803, 0.08523054420948029, 0.8523054122924805, 0.14769510924816132, 0.8861706852912903, 0.32676374912261963, 0.6786631345748901, 0.2603641152381897, 0.7485467791557312, 0.1107669398188591, 0.8861355185508728, 0.7477971315383911, 0.24926570057868958, 0.7855710387229919, 0.1571142077445984, 0.8247966170310974, 0.18328812718391418, 0.19537290930747986, 0.8140538334846497, 0.3050709366798401, 0.686409592628479, 0.8888052701950073, 0.10915151983499527, 0.1661418229341507, 0.8307090997695923, 0.18464939296245575, 0.9232469797134399, 0.420064777135849, 0.575644314289093, 0.2855070233345032, 0.7137675285339355, 0.8105579018592834, 0.17369097471237183, 0.22784045338630676, 0.7486186623573303, 0.5114933252334595, 0.49803298711776733, 0.7272919416427612, 0.2701370120048523, 0.15820692479610443, 0.7910345792770386, 0.8249536156654358, 0.18332302570343018, 0.13847605884075165, 0.8308563232421875, 0.8108351826667786, 0.1737504005432129, 0.8002074360847473, 0.20005185902118683, 0.7272483110427856, 0.2701207995414734, 0.8361420035362244, 0.17602989077568054, 0.15825936198234558, 0.8704265356063843, 0.22149842977523804, 0.8859937191009521, 0.48300090432167053, 0.5175009369850159, 0.15823611617088318, 0.7911806106567383, 0.8798025846481323, 0.21995064616203308, 0.42679089307785034, 0.5774229764938354, 0.11076823621988297, 0.8861458897590637, 0.893111526966095, 0.0687008872628212, 0.8248668909072876, 0.2749556303024292, 0.817048966884613, 0.18201586604118347, 0.8555025458335876, 0.12221464514732361, 0.5766826868057251, 0.42186853289604187, 0.12305416166782379, 0.8613791465759277, 0.7687827348709106, 0.22714035212993622, 0.20761537551879883, 0.8304615020751953, 0.7057092785835266, 0.29261115193367004, 0.6482559442520142, 0.3457365036010742, 0.1845788210630417, 0.7383152842521667, 0.3631669282913208, 0.647384524345398, 0.8705474138259888, 0.13745485246181488, 0.23165971040725708, 0.7721990346908569, 0.7382925748825073, 0.26156651973724365, 0.2768574059009552, 0.830572247505188, 0.7855489253997803, 0.15710978209972382, 0.8361787796020508, 0.17603763937950134, 0.19258828461170197, 0.8185002207756042, 0.7672548890113831, 0.23351235687732697, 0.17044182121753693, 0.8522091507911682, 0.7855215668678284, 0.15710431337356567, 0.1703612506389618, 0.8518062829971313, 0.7109642028808594, 0.2884649932384491, 0.8798990249633789, 0.21997475624084473, 0.17042851448059082, 0.8521425724029541, 0.8201996088027954, 0.18004381656646729, 0.23307420313358307, 0.8157597184181213, 0.3455022871494293, 0.6679710745811462, 0.25768375396728516, 0.7427355647087097, 0.2910785377025604, 0.698588490486145, 0.6982036232948303, 0.2947970926761627, 0.5453246235847473, 0.45655086636543274, 0.5870317816734314, 0.4091433882713318, 0.8248773813247681, 0.27495911717414856, 0.5058786869049072, 0.4905490279197693, 0.8555856943130493, 0.1222265288233757, 0.734137773513794, 0.24471259117126465, 0.6745892763137817, 0.33729463815689087, 0.11082345992326736, 0.8865876793861389, 0.8641117811203003, 0.15711122751235962, 0.8247413635253906, 0.13745689392089844, 0.34370362758636475, 0.6502500772476196, 0.2682017385959625, 0.7375547885894775, 0.46128958463668823, 0.5451604127883911, 0.7856581211090088, 0.157131627202034, 0.5037253499031067, 0.49631762504577637, 0.7568153142929077, 0.24080486595630646, 0.7854509353637695, 0.1570901870727539, 0.23715941607952118, 0.7641803622245789, 0.20760191977024078, 0.7958073616027832, 0.5047351121902466, 0.4953007996082306, 0.2214953452348709, 0.8859813809394836, 0.1108197495341301, 0.8865579962730408, 0.8597730994224548, 0.1399630606174469, 0.5364639759063721, 0.46330979466438293, 0.8555658459663391, 0.12222369015216827, 0.5098077058792114, 0.49404045939445496, 0.1925567090511322, 0.8023195862770081, 0.45869001746177673, 0.5436326265335083, 0.12312836945056915, 0.8618986010551453, 0.34828242659568787, 0.6511366963386536, 0.7855311632156372, 0.15710623562335968, 0.8514932990074158, 0.14191554486751556, 0.87972491979599, 0.10996561497449875, 0.15821343660354614, 0.7910671830177307, 0.36844223737716675, 0.6285191178321838, 0.8796887397766113, 0.21992218494415283, 0.19537445902824402, 0.7814978361129761, 0.8551128506660461, 0.1221589744091034, 0.18459726870059967, 0.9229863286018372, 0.1582893580198288, 0.9497361779212952, 0.32671475410461426, 0.6785613894462585, 0.9166187644004822, 0.18332374095916748, 0.3465154767036438, 0.6600294709205627, 0.7341292500495911, 0.2691807150840759, 0.5650001764297485, 0.4304763376712799, 0.8249205946922302, 0.2749735116958618, 0.28156420588493347, 0.7039105296134949, 0.3743104040622711, 0.6238507032394409, 0.20758217573165894, 0.7957317233085632, 0.12313417345285416, 0.8619391918182373, 0.18456292152404785, 0.7382516860961914, 0.1845918893814087, 0.8491227030754089, 0.7933920621871948, 0.2047463357448578, 0.8797391057014465, 0.21993477642536163, 0.32975131273269653, 0.6595026254653931, 0.6969274282455444, 0.3035006523132324, 0.1845976859331131, 0.9229884743690491, 0.12309145927429199, 0.861640214920044, 0.726752758026123, 0.2642737329006195, 0.46764734387397766, 0.5325983762741089, 0.3055940568447113, 0.6839486360549927], \"Term\": [\"'hard\", \"'hard\", \"'holi\", \"'holi\", \"11,925\", \"11,925\", \"aapl\", \"aapl\", \"aboard\", \"aboard\", \"account\", \"account\", \"amber\", \"amber\", \"analyst\", \"analyst\", \"away\", \"away\", \"batteri\", \"batteri\", \"bear\", \"bear\", \"bigger\", \"bigger\", \"biggest\", \"biggest\", \"billion\", \"billion\", \"bore\", \"bore\", \"break\", \"break\", \"calm\", \"calm\", \"car\", \"car\", \"charg\", \"charg\", \"chevi\", \"chevi\", \"chief\", \"chief\", \"china\", \"china\", \"compani\", \"compani\", \"compar\", \"compar\", \"concern\", \"concern\", \"creat\", \"creat\", \"credit\", \"credit\", \"custom\", \"custom\", \"delay\", \"delay\", \"donald\", \"donald\", \"dream\", \"dream\", \"e-truck\", \"e-truck\", \"earth\", \"earth\", \"easter\", \"easter\", \"ebay\", \"ebay\", \"electr\", \"electr\", \"eric\", \"eric\", \"explain\", \"explain\", \"f**k\", \"f**k\", \"falcon\", \"falcon\", \"fastest\", \"fastest\", \"flamethrow\", \"flamethrow\", \"fremont\", \"fremont\", \"get\", \"get\", \"gigafactori\", \"gigafactori\", \"go\", \"go\", \"goal\", \"goal\", \"goog\", \"goog\", \"group\", \"group\", \"grow\", \"grow\", \"head\", \"head\", \"heavi\", \"heavi\", \"highway\", \"highway\", \"histori\", \"histori\", \"huge\", \"huge\", \"human\", \"human\", \"hyperloop\", \"hyperloop\", \"imag\", \"imag\", \"imperson\", \"imperson\", \"land\", \"land\", \"launch\", \"launch\", \"let\", \"let\", \"life\", \"life\", \"like\", \"like\", \"lose\", \"lose\", \"make\", \"make\", \"mar\", \"mar\", \"market\", \"market\", \"million\", \"million\", \"nasdaq\", \"nasdaq\", \"news\", \"news\", \"obama\", \"obama\", \"orbit\", \"orbit\", \"overal\", \"overal\", \"packag\", \"packag\", \"parti\", \"parti\", \"peak\", \"peak\", \"pedestrian\", \"pedestrian\", \"permit\", \"permit\", \"plan\", \"plan\", \"post\", \"post\", \"power\", \"power\", \"pre-ord\", \"pre-ord\", \"product\", \"product\", \"race\", \"race\", \"reaction\", \"reaction\", \"reveal\", \"reveal\", \"review\", \"review\", \"rocket\", \"rocket\", \"sacramento\", \"sacramento\", \"safeti\", \"safeti\", \"sale\", \"sale\", \"say\", \"say\", \"scammer\", \"scammer\", \"sell\", \"sell\", \"semi\", \"semi\", \"send\", \"send\", \"shanghai\", \"shanghai\", \"share\", \"share\", \"shoe\", \"shoe\", \"shoot\", \"shoot\", \"side\", \"side\", \"skoda\", \"skoda\", \"solar\", \"solar\", \"sound\", \"sound\", \"spot\", \"spot\", \"spur\", \"spur\", \"squar\", \"squar\", \"standoff\", \"standoff\", \"starman\", \"starman\", \"steal\", \"steal\", \"stock\", \"stock\", \"success\", \"success\", \"target\", \"target\", \"taxi\", \"taxi\", \"technolog\", \"technolog\", \"test\", \"test\", \"think\", \"think\", \"threaten\", \"threaten\", \"throw\", \"throw\", \"today\", \"today\", \"trade\", \"trade\", \"transport\", \"transport\", \"truck\", \"truck\", \"trump\", \"trump\", \"twtr\", \"twtr\", \"uneven\", \"uneven\", \"want\", \"want\", \"watch\", \"watch\", \"world\", \"world\"]}, \"R\": 30, \"lambda.step\": 0.01, \"plot.opts\": {\"xlab\": \"PC1\", \"ylab\": \"PC2\"}, \"topic.order\": [2, 1]};\n",
       "\n",
       "function LDAvis_load_lib(url, callback){\n",
       "  var s = document.createElement('script');\n",
       "  s.src = url;\n",
       "  s.async = true;\n",
       "  s.onreadystatechange = s.onload = callback;\n",
       "  s.onerror = function(){console.warn(\"failed to load library \" + url);};\n",
       "  document.getElementsByTagName(\"head\")[0].appendChild(s);\n",
       "}\n",
       "\n",
       "if(typeof(LDAvis) !== \"undefined\"){\n",
       "   // already loaded: just create the visualization\n",
       "   !function(LDAvis){\n",
       "       new LDAvis(\"#\" + \"ldavis_el2894428808961741441157667223\", ldavis_el2894428808961741441157667223_data);\n",
       "   }(LDAvis);\n",
       "}else if(typeof define === \"function\" && define.amd){\n",
       "   // require.js is available: use it to load d3/LDAvis\n",
       "   require.config({paths: {d3: \"https://cdnjs.cloudflare.com/ajax/libs/d3/3.5.5/d3.min\"}});\n",
       "   require([\"d3\"], function(d3){\n",
       "      window.d3 = d3;\n",
       "      LDAvis_load_lib(\"https://cdn.rawgit.com/bmabey/pyLDAvis/files/ldavis.v1.0.0.js\", function(){\n",
       "        new LDAvis(\"#\" + \"ldavis_el2894428808961741441157667223\", ldavis_el2894428808961741441157667223_data);\n",
       "      });\n",
       "    });\n",
       "}else{\n",
       "    // require.js not available: dynamically load d3 & LDAvis\n",
       "    LDAvis_load_lib(\"https://cdnjs.cloudflare.com/ajax/libs/d3/3.5.5/d3.min.js\", function(){\n",
       "         LDAvis_load_lib(\"https://cdn.rawgit.com/bmabey/pyLDAvis/files/ldavis.v1.0.0.js\", function(){\n",
       "                 new LDAvis(\"#\" + \"ldavis_el2894428808961741441157667223\", ldavis_el2894428808961741441157667223_data);\n",
       "            })\n",
       "         });\n",
       "}\n",
       "</script>"
      ],
      "text/plain": [
       "PreparedData(topic_coordinates=              x    y  topics  cluster       Freq\n",
       "topic                                           \n",
       "1      0.034385  0.0       1        1  51.688595\n",
       "0     -0.034385  0.0       2        1  48.311413, topic_info=     Category        Freq        Term       Total  loglift  logprob\n",
       "490   Default  247.000000      falcon  247.000000  30.0000  30.0000\n",
       "5     Default  128.000000        bore  128.000000  29.0000  29.0000\n",
       "29    Default  343.000000      launch  343.000000  28.0000  28.0000\n",
       "565   Default  237.000000       heavi  237.000000  27.0000  27.0000\n",
       "182   Default  131.000000         mar  131.000000  26.0000  26.0000\n",
       "98    Default   62.000000        semi   62.000000  25.0000  25.0000\n",
       "320   Default   50.000000        sale   50.000000  24.0000  24.0000\n",
       "6     Default  144.000000     compani  144.000000  23.0000  23.0000\n",
       "50    Default   49.000000        like   49.000000  22.0000  22.0000\n",
       "70    Default   25.000000       dream   25.000000  21.0000  21.0000\n",
       "538   Default   96.000000       delay   96.000000  20.0000  20.0000\n",
       "857   Default   27.000000       today   27.000000  19.0000  19.0000\n",
       "66    Default  107.000000        plan  107.000000  18.0000  18.0000\n",
       "365   Default   38.000000        head   38.000000  17.0000  17.0000\n",
       "289   Default   30.000000     biggest   30.000000  16.0000  16.0000\n",
       "27    Default   57.000000         get   57.000000  15.0000  15.0000\n",
       "171   Default   28.000000      review   28.000000  14.0000  14.0000\n",
       "546   Default   68.000000       world   68.000000  13.0000  13.0000\n",
       "435   Default   37.000000      reveal   37.000000  12.0000  12.0000\n",
       "223   Default   30.000000        spot   30.000000  11.0000  11.0000\n",
       "324   Default   28.000000       think   28.000000  10.0000  10.0000\n",
       "603   Default   28.000000       shoot   28.000000   9.0000   9.0000\n",
       "26    Default   49.000000   technolog   49.000000   8.0000   8.0000\n",
       "284   Default   21.000000        grow   21.000000   7.0000   7.0000\n",
       "578   Default   20.000000       human   20.000000   6.0000   6.0000\n",
       "54    Default   39.000000       trade   39.000000   5.0000   5.0000\n",
       "150   Default   30.000000       chief   30.000000   4.0000   4.0000\n",
       "732   Default   18.000000       break   18.000000   3.0000   3.0000\n",
       "177   Default   52.000000     billion   52.000000   2.0000   2.0000\n",
       "379   Default   48.000000     batteri   48.000000   1.0000   1.0000\n",
       "...       ...         ...         ...         ...      ...      ...\n",
       "165    Topic2   39.678329       stock   60.603355   0.3040  -5.3212\n",
       "116    Topic2   21.707479        post   29.828293   0.4097  -5.9244\n",
       "195    Topic2   34.330437       truck   51.554001   0.3209  -5.4660\n",
       "22     Topic2   40.513702       group   63.331757   0.2808  -5.3004\n",
       "343    Topic2   24.269493      market   34.354988   0.3800  -5.8128\n",
       "541    Topic2   27.218863       amber   39.784096   0.3479  -5.6981\n",
       "30     Topic2  105.397270      rocket  211.992386   0.0287  -4.3443\n",
       "559    Topic2   20.420107       charg   28.020327   0.4111  -5.9855\n",
       "44     Topic2   93.629189        sell  190.267822   0.0184  -4.4627\n",
       "276    Topic2   28.790731        make   43.415054   0.3167  -5.6420\n",
       "716    Topic2   26.894890     starman   39.790062   0.3358  -5.7101\n",
       "194    Topic2   45.556667      electr   79.664307   0.1686  -5.1831\n",
       "219    Topic2   67.367561     product  134.994202   0.0324  -4.7919\n",
       "1025   Topic2  109.185501  flamethrow  258.374329  -0.1339  -4.3090\n",
       "3      Topic2   76.120239         say  164.037109  -0.0403  -4.6697\n",
       "100    Topic2   34.632427        test   56.103168   0.2451  -5.4573\n",
       "694    Topic2   45.056576       earth   86.956360   0.0700  -5.1941\n",
       "46     Topic2   36.878529         car   64.275803   0.1719  -5.3944\n",
       "348    Topic2   41.087311       watch   76.981087   0.0996  -5.2863\n",
       "105    Topic2   38.894150       power   71.538574   0.1181  -5.3412\n",
       "29     Topic2   98.776642      launch  343.195892  -0.5179  -4.4092\n",
       "410    Topic2   29.383810       solar   46.140205   0.2763  -5.6216\n",
       "48     Topic2   36.648739       china   74.292267   0.0209  -5.4007\n",
       "565    Topic2   62.300430       heavi  237.033401  -0.6087  -4.8701\n",
       "18     Topic2   36.020706      nasdaq   78.852112  -0.0560  -5.4180\n",
       "339    Topic2   31.883827        send   58.863281   0.1144  -5.5399\n",
       "6      Topic2   39.393871     compani  144.371185  -0.5713  -5.3284\n",
       "490    Topic2   44.822865      falcon  247.231201  -0.9801  -5.1993\n",
       "492    Topic2   32.033951       orbit   65.233032   0.0163  -5.5353\n",
       "377    Topic2   32.334328      target   74.336258  -0.1050  -5.5259\n",
       "\n",
       "[179 rows x 6 columns], token_table=      Topic      Freq       Term\n",
       "term                            \n",
       "1389      1  0.916504      'hard\n",
       "1389      2  0.183301      'hard\n",
       "1172      1  0.824842      'holi\n",
       "1172      2  0.274947      'holi\n",
       "1068      1  0.184625     11,925\n",
       "1068      2  0.923125     11,925\n",
       "1608      1  0.221503       aapl\n",
       "1608      2  0.886013       aapl\n",
       "1115      1  0.085231     aboard\n",
       "1115      2  0.852305     aboard\n",
       "123       1  0.147695    account\n",
       "123       2  0.886171    account\n",
       "541       1  0.326764      amber\n",
       "541       2  0.678663      amber\n",
       "163       1  0.260364    analyst\n",
       "163       2  0.748547    analyst\n",
       "447       1  0.110767       away\n",
       "447       2  0.886136       away\n",
       "379       1  0.747797    batteri\n",
       "379       2  0.249266    batteri\n",
       "553       1  0.785571       bear\n",
       "553       2  0.157114       bear\n",
       "1320      1  0.824797     bigger\n",
       "1320      2  0.183288     bigger\n",
       "289       1  0.195373    biggest\n",
       "289       2  0.814054    biggest\n",
       "177       1  0.305071    billion\n",
       "177       2  0.686410    billion\n",
       "5         1  0.888805       bore\n",
       "5         2  0.109152       bore\n",
       "...     ...       ...        ...\n",
       "26        1  0.281564  technolog\n",
       "26        2  0.703911  technolog\n",
       "100       1  0.374310       test\n",
       "100       2  0.623851       test\n",
       "324       1  0.207582      think\n",
       "324       2  0.795732      think\n",
       "1087      1  0.123134   threaten\n",
       "1087      2  0.861939   threaten\n",
       "703       1  0.184563      throw\n",
       "703       2  0.738252      throw\n",
       "857       1  0.184592      today\n",
       "857       2  0.849123      today\n",
       "54        1  0.793392      trade\n",
       "54        2  0.204746      trade\n",
       "34        1  0.879739  transport\n",
       "34        2  0.219935  transport\n",
       "195       1  0.329751      truck\n",
       "195       2  0.659503      truck\n",
       "55        1  0.696927      trump\n",
       "55        2  0.303501      trump\n",
       "924       1  0.184598       twtr\n",
       "924       2  0.922988       twtr\n",
       "176       1  0.123091     uneven\n",
       "176       2  0.861640     uneven\n",
       "156       1  0.726753       want\n",
       "156       2  0.264274       want\n",
       "348       1  0.467647      watch\n",
       "348       2  0.532598      watch\n",
       "546       1  0.305594      world\n",
       "546       2  0.683949      world\n",
       "\n",
       "[260 rows x 3 columns], R=30, lambda_step=0.01, plot_opts={'xlab': 'PC1', 'ylab': 'PC2'}, topic_order=[2, 1])"
      ]
     },
     "execution_count": 157,
     "metadata": {},
     "output_type": "execute_result"
    }
   ],
   "source": [
    "pyLDAvis.enable_notebook()\n",
    "LDAvis_prepared = pyLDAvis.gensim.prepare(lda_model, bow_corpus, dictionary)\n",
    "LDAvis_prepared"
   ]
  },
  {
   "cell_type": "code",
   "execution_count": 161,
   "metadata": {},
   "outputs": [
    {
     "name": "stdout",
     "output_type": "stream",
     "text": [
      "Topic: 0 \n",
      "Words: 0.031*\"launch\" + 0.024*\"falcon\" + 0.023*\"heavi\" + 0.023*\"rocket\" + 0.022*\"sell\" + 0.018*\"flamethrow\" + 0.013*\"product\" + 0.013*\"say\" + 0.009*\"mar\" + 0.009*\"bore\"\n",
      "Topic: 1 \n",
      "Words: 0.020*\"flamethrow\" + 0.012*\"compani\" + 0.010*\"plan\" + 0.010*\"product\" + 0.009*\"say\" + 0.009*\"year\" + 0.009*\"launch\" + 0.007*\"loss\" + 0.007*\"bore\" + 0.007*\"group\"\n",
      "Topic: 2 \n",
      "Words: 0.017*\"launch\" + 0.014*\"falcon\" + 0.013*\"heavi\" + 0.010*\"mar\" + 0.009*\"trump\" + 0.008*\"rocket\" + 0.008*\"flamethrow\" + 0.008*\"power\" + 0.008*\"compani\" + 0.008*\"plan\"\n"
     ]
    }
   ],
   "source": [
    "lda_model_2 = gs.GridSearch(bow_corpus, dictionary, dict_conv_base[2]).nlp_model('lda-multicore')\n",
    "for idx, topic in lda_model_2.print_topics(-1):\n",
    "    print('Topic: {} \\nWords: {}'.format(idx, topic))"
   ]
  },
  {
   "cell_type": "code",
   "execution_count": 162,
   "metadata": {},
   "outputs": [
    {
     "name": "stderr",
     "output_type": "stream",
     "text": [
      "C:\\Users\\daniela.kutleva\\AppData\\Local\\Continuum\\anaconda3\\lib\\site-packages\\pyLDAvis\\_prepare.py:257: FutureWarning: Sorting because non-concatenation axis is not aligned. A future version\n",
      "of pandas will change to not sort by default.\n",
      "\n",
      "To accept the future behavior, pass 'sort=False'.\n",
      "\n",
      "To retain the current behavior and silence the warning, pass 'sort=True'.\n",
      "\n",
      "  return pd.concat([default_term_info] + list(topic_dfs))\n"
     ]
    },
    {
     "data": {
      "text/html": [
       "\n",
       "<link rel=\"stylesheet\" type=\"text/css\" href=\"https://cdn.rawgit.com/bmabey/pyLDAvis/files/ldavis.v1.0.0.css\">\n",
       "\n",
       "\n",
       "<div id=\"ldavis_el2894428808972381441654378024\"></div>\n",
       "<script type=\"text/javascript\">\n",
       "\n",
       "var ldavis_el2894428808972381441654378024_data = {\"mdsDat\": {\"x\": [0.07918630927357487, -0.002928398180185475, -0.07625791109338938], \"y\": [0.03765000086724661, -0.07981063556977303, 0.042160634702526435], \"topics\": [1, 2, 3], \"cluster\": [1, 1, 1], \"Freq\": [40.448795318603516, 33.124298095703125, 26.426908493041992]}, \"tinfo\": {\"Category\": [\"Default\", \"Default\", \"Default\", \"Default\", \"Default\", \"Default\", \"Default\", \"Default\", \"Default\", \"Default\", \"Default\", \"Default\", \"Default\", \"Default\", \"Default\", \"Default\", \"Default\", \"Default\", \"Default\", \"Default\", \"Default\", \"Default\", \"Default\", \"Default\", \"Default\", \"Default\", \"Default\", \"Default\", \"Default\", \"Default\", \"Topic1\", \"Topic1\", \"Topic1\", \"Topic1\", \"Topic1\", \"Topic1\", \"Topic1\", \"Topic1\", \"Topic1\", \"Topic1\", \"Topic1\", \"Topic1\", \"Topic1\", \"Topic1\", \"Topic1\", \"Topic1\", \"Topic1\", \"Topic1\", \"Topic1\", \"Topic1\", \"Topic1\", \"Topic1\", \"Topic1\", \"Topic1\", \"Topic1\", \"Topic1\", \"Topic1\", \"Topic1\", \"Topic1\", \"Topic1\", \"Topic1\", \"Topic1\", \"Topic1\", \"Topic1\", \"Topic1\", \"Topic1\", \"Topic1\", \"Topic1\", \"Topic1\", \"Topic1\", \"Topic1\", \"Topic1\", \"Topic1\", \"Topic1\", \"Topic1\", \"Topic1\", \"Topic1\", \"Topic1\", \"Topic1\", \"Topic1\", \"Topic1\", \"Topic1\", \"Topic1\", \"Topic1\", \"Topic1\", \"Topic1\", \"Topic1\", \"Topic1\", \"Topic1\", \"Topic1\", \"Topic1\", \"Topic1\", \"Topic1\", \"Topic1\", \"Topic1\", \"Topic1\", \"Topic1\", \"Topic1\", \"Topic1\", \"Topic1\", \"Topic1\", \"Topic1\", \"Topic1\", \"Topic2\", \"Topic2\", \"Topic2\", \"Topic2\", \"Topic2\", \"Topic2\", \"Topic2\", \"Topic2\", \"Topic2\", \"Topic2\", \"Topic2\", \"Topic2\", \"Topic2\", \"Topic2\", \"Topic2\", \"Topic2\", \"Topic2\", \"Topic2\", \"Topic2\", \"Topic2\", \"Topic2\", \"Topic2\", \"Topic2\", \"Topic2\", \"Topic2\", \"Topic2\", \"Topic2\", \"Topic2\", \"Topic2\", \"Topic2\", \"Topic2\", \"Topic2\", \"Topic2\", \"Topic2\", \"Topic2\", \"Topic2\", \"Topic2\", \"Topic2\", \"Topic2\", \"Topic2\", \"Topic2\", \"Topic2\", \"Topic2\", \"Topic2\", \"Topic2\", \"Topic2\", \"Topic2\", \"Topic2\", \"Topic2\", \"Topic2\", \"Topic2\", \"Topic2\", \"Topic2\", \"Topic2\", \"Topic2\", \"Topic2\", \"Topic2\", \"Topic2\", \"Topic2\", \"Topic2\", \"Topic2\", \"Topic2\", \"Topic2\", \"Topic2\", \"Topic2\", \"Topic2\", \"Topic2\", \"Topic2\", \"Topic2\", \"Topic2\", \"Topic2\", \"Topic2\", \"Topic3\", \"Topic3\", \"Topic3\", \"Topic3\", \"Topic3\", \"Topic3\", \"Topic3\", \"Topic3\", \"Topic3\", \"Topic3\", \"Topic3\", \"Topic3\", \"Topic3\", \"Topic3\", \"Topic3\", \"Topic3\", \"Topic3\", \"Topic3\", \"Topic3\", \"Topic3\", \"Topic3\", \"Topic3\", \"Topic3\", \"Topic3\", \"Topic3\", \"Topic3\", \"Topic3\", \"Topic3\", \"Topic3\", \"Topic3\", \"Topic3\", \"Topic3\", \"Topic3\", \"Topic3\", \"Topic3\", \"Topic3\", \"Topic3\", \"Topic3\", \"Topic3\", \"Topic3\", \"Topic3\", \"Topic3\", \"Topic3\", \"Topic3\", \"Topic3\", \"Topic3\", \"Topic3\", \"Topic3\", \"Topic3\", \"Topic3\", \"Topic3\", \"Topic3\", \"Topic3\", \"Topic3\", \"Topic3\", \"Topic3\", \"Topic3\", \"Topic3\", \"Topic3\", \"Topic3\", \"Topic3\", \"Topic3\", \"Topic3\", \"Topic3\", \"Topic3\", \"Topic3\", \"Topic3\", \"Topic3\", \"Topic3\", \"Topic3\", \"Topic3\", \"Topic3\", \"Topic3\", \"Topic3\", \"Topic3\", \"Topic3\"], \"Freq\": [243.0, 210.0, 234.0, 190.0, 136.0, 63.0, 63.0, 260.0, 34.0, 65.0, 69.0, 46.0, 46.0, 57.0, 108.0, 37.0, 29.0, 49.0, 20.0, 340.0, 35.0, 44.0, 39.0, 59.0, 78.0, 35.0, 20.0, 41.0, 27.0, 28.0, 13.690407752990723, 10.028383255004883, 7.418002605438232, 6.466506481170654, 8.088591575622559, 6.432555198669434, 4.736436367034912, 4.726983547210693, 5.512628555297852, 5.4877095222473145, 7.050978183746338, 4.686434268951416, 4.686675548553467, 4.668382167816162, 4.66402006149292, 4.65576171875, 10.84322738647461, 4.631081581115723, 3.848090171813965, 3.839719772338867, 3.838364839553833, 3.8365347385406494, 3.824388027191162, 6.887645244598389, 4.556543827056885, 18.87468910217285, 9.049229621887207, 3.7303309440612793, 2.9786367416381836, 2.9751317501068115, 22.860294342041016, 12.636399269104004, 148.4473876953125, 156.01417541503906, 17.377002716064453, 54.82170486450195, 163.97132873535156, 10.81602954864502, 157.59829711914062, 42.389095306396484, 45.71111297607422, 10.903205871582031, 209.43235778808594, 52.78226089477539, 21.578392028808594, 19.144317626953125, 88.59575653076172, 13.816487312316895, 23.08763313293457, 15.072013854980469, 49.509647369384766, 28.76329803466797, 86.41648864746094, 18.784311294555664, 124.02368927001953, 49.35123062133789, 34.05537414550781, 25.846620559692383, 23.396953582763672, 50.43731689453125, 61.37940216064453, 61.423248291015625, 31.144515991210938, 33.81993865966797, 32.289066314697266, 30.093177795410156, 47.66172790527344, 30.207473754882812, 28.88604164123535, 24.026344299316406, 24.213115692138672, 24.36838722229004, 24.544410705566406, 9.665505409240723, 9.634369850158691, 7.150721549987793, 9.501428604125977, 7.08213472366333, 6.215443134307861, 14.738330841064453, 6.207391738891602, 4.5673747062683105, 4.533531665802002, 5.236565589904785, 14.847545623779297, 3.69362735748291, 3.6894965171813965, 9.56350040435791, 3.682663917541504, 3.64103364944458, 4.3638482093811035, 6.53878927230835, 7.953986167907715, 3.6158087253570557, 18.765111923217773, 6.510361671447754, 31.00642967224121, 4.323544979095459, 12.151545524597168, 2.8504457473754883, 2.8469443321228027, 2.842468023300171, 2.841597557067871, 3.5507984161376953, 14.569903373718262, 9.720501899719238, 11.737431526184082, 9.685661315917969, 11.008207321166992, 15.398053169250488, 17.021656036376953, 20.582565307617188, 12.001822471618652, 28.014827728271484, 26.890457153320312, 44.62305450439453, 19.422813415527344, 50.50083541870117, 24.868511199951172, 39.92738342285156, 18.619407653808594, 42.020050048828125, 22.44965934753418, 29.111753463745117, 27.7708797454834, 38.07236862182617, 27.115942001342773, 17.28788185119629, 53.1648063659668, 22.611019134521484, 75.23715209960938, 92.5673828125, 42.77717208862305, 69.84049224853516, 30.32025718688965, 24.143707275390625, 29.714677810668945, 25.39755630493164, 43.7403678894043, 46.77122116088867, 46.327186584472656, 34.372169494628906, 37.22603225708008, 22.9621639251709, 21.803518295288086, 6.803785800933838, 5.8657684326171875, 5.8392252922058105, 5.830993175506592, 4.996565818786621, 5.808514595031738, 4.979828357696533, 4.974025249481201, 4.95841646194458, 4.927933216094971, 5.724584579467773, 4.88607931137085, 6.4760332107543945, 4.857651710510254, 4.042018413543701, 4.023597717285156, 4.020838260650635, 4.011296272277832, 17.560171127319336, 3.9626622200012207, 3.9605472087860107, 8.598487854003906, 3.118316650390625, 8.588580131530762, 4.6723856925964355, 3.1141393184661865, 3.101395845413208, 3.099921464920044, 3.0906331539154053, 3.087956428527832, 6.902182102203369, 8.387752532958984, 11.334698677062988, 10.436996459960938, 6.773448467254639, 25.659555435180664, 10.167964935302734, 9.519219398498535, 15.341837882995605, 21.42244529724121, 40.06550979614258, 9.278180122375488, 6.70513916015625, 33.09657287597656, 21.939395904541016, 7.906131744384766, 16.24180030822754, 22.577991485595703, 90.40798950195312, 8.381206512451172, 29.313148498535156, 44.95044708251953, 16.783771514892578, 29.871694564819336, 53.53085708618164, 29.651561737060547, 22.152420043945312, 10.59441089630127, 42.954280853271484, 22.82972526550293, 15.096214294433594, 17.384105682373047, 15.770820617675781, 40.89680099487305, 28.755615234375, 32.248966217041016, 19.07891845703125, 18.3852481842041, 21.396560668945312, 22.544395446777344, 38.918487548828125, 22.454036712646484, 18.407743453979492, 17.833179473876953, 21.372413635253906, 16.930259704589844], \"Term\": [\"falcon\", \"rocket\", \"heavi\", \"sell\", \"product\", \"year\", \"group\", \"flamethrow\", \"'starman\", \"million\", \"power\", \"kandi\", \"kndi\", \"loss\", \"plan\", \"trade\", \"review\", \"technolog\", \"posit\", \"launch\", \"thing\", \"tech\", \"earn\", \"send\", \"nasdaq\", \"expect\", \"perform\", \"hear\", \"know\", \"belt\", \"gigafactori\", \"1,550\", \"costum\", \"attempt\", \"carri\", \"pass\", \"branson\", \"2020\", \"advertis\", \"welcom\", \"overal\", \"point\", \"cheer\", \"calm\", \"moon\", \"50th\", \"pedestrian\", \"taunt\", \"redditor\", \"chilli\", \"thaw\", \"russia\", \"sign\", \"shanghai\", \"bowi\", \"stick\", \"competit\", \"glimps\", \"265.00\", \"'major\", \"day\", \"spend\", \"sell\", \"rocket\", \"good\", \"target\", \"falcon\", \"cost\", \"heavi\", \"go\", \"car\", \"exec\", \"launch\", \"watch\", \"race\", \"dream\", \"product\", \"flight\", \"worth\", \"rise\", \"electr\", \"make\", \"say\", \"show\", \"flamethrow\", \"earth\", \"news\", \"starman\", \"deliveri\", \"delay\", \"bore\", \"mar\", \"test\", \"million\", \"share\", \"stock\", \"compani\", \"semi\", \"get\", \"success\", \"parti\", \"batteri\", \"china\", \"oppos\", \"concern\", \"uneven\", \"bigger\", \"split\", \"comparison\", \"hold\", \"quit\", \"zack\", \"'fair\", \"depp\", \"virtual\", \"thought\", \"kiosk\", \"rule\", \"agre\", \"user\", \"quot\", \"growth\", \"inspir\", \"origin\", \"work\", \"spur\", \"trade\", \"steal\", \"lewi\", \"urban\", \"spartan\", \"high-tech\", \"bind\", \"children\", \"cryptocurr\", \"proxi\", \"execut\", \"upgrad\", \"soon\", \"firm\", \"mission\", \"belt\", \"long\", \"hear\", \"amber\", \"power\", \"asteroid\", \"trump\", \"head\", \"world\", \"charg\", \"nasdaq\", \"track\", \"technolog\", \"kndi\", \"china\", \"kandi\", \"australia\", \"mar\", \"packag\", \"falcon\", \"launch\", \"plan\", \"heavi\", \"group\", \"want\", \"orbit\", \"truck\", \"compani\", \"rocket\", \"flamethrow\", \"bore\", \"say\", \"build\", \"video\", \"qualiti\", \"renew\", \"museum\", \"serbia\", \"twtr\", \"suffer\", \"crowd\", \"data\", \"goog\", \"explor\", \"pre-ord\", \"citigroup\", \"restaur\", \"11,925\", \"arizona\", \"aapl\", \"'last\", \"e-truck\", \"posit\", \"showcas\", \"stand\", \"10-year\", \"snap\", \"outer\", \"analyz\", \"statement\", \"flame\", \"in-car\", \"thrower\", \"'nerd\", \"borderland\", \"stop\", \"tie\", \"mileston\", \"secur\", \"'starman\", \"roof\", \"imag\", \"perform\", \"review\", \"year\", \"closer\", \"i-pac\", \"loss\", \"thing\", \"upbeat\", \"hit\", \"earn\", \"flamethrow\", \"critic\", \"send\", \"plan\", \"shoot\", \"group\", \"compani\", \"million\", \"tech\", \"bezo\", \"product\", \"report\", \"know\", \"compens\", \"biggest\", \"say\", \"delay\", \"bore\", \"kandi\", \"kndi\", \"share\", \"nasdaq\", \"launch\", \"earth\", \"sale\", \"technolog\", \"sell\", \"news\"], \"Total\": [243.0, 210.0, 234.0, 190.0, 136.0, 63.0, 63.0, 260.0, 34.0, 65.0, 69.0, 46.0, 46.0, 57.0, 108.0, 37.0, 29.0, 49.0, 20.0, 340.0, 35.0, 44.0, 39.0, 59.0, 78.0, 35.0, 20.0, 41.0, 27.0, 28.0, 14.511797904968262, 10.885919570922852, 8.163850784301758, 7.25850248336792, 9.080618858337402, 7.260731220245361, 5.443286418914795, 5.444182395935059, 6.356583595275879, 6.345595836639404, 8.15458869934082, 5.444042682647705, 5.444499492645264, 5.445699214935303, 5.443088531494141, 5.444324016571045, 12.738040924072266, 5.444718837738037, 4.536685943603516, 4.537318706512451, 4.53754997253418, 4.537236213684082, 4.5372395515441895, 8.182912826538086, 5.438308238983154, 22.64457893371582, 10.927191734313965, 4.537772178649902, 3.63042950630188, 3.630521297454834, 28.143234252929688, 15.504220008850098, 190.55319213867188, 210.70468139648438, 21.717241287231445, 74.52210235595703, 243.91714477539062, 13.5359525680542, 234.25006103515625, 58.23689270019531, 64.47901153564453, 13.690022468566895, 340.9182434082031, 76.62774658203125, 28.85569953918457, 25.400981903076172, 136.85801696777344, 18.040653228759766, 32.44696807861328, 20.034080505371094, 79.98886108398438, 43.613983154296875, 164.53932189941406, 26.212413787841797, 260.75885009765625, 87.46466064453125, 56.767608642578125, 39.97298812866211, 35.50662612915039, 96.74720764160156, 128.0005340576172, 131.08074951171875, 55.54222106933594, 65.65263366699219, 66.66975402832031, 60.44414520263672, 144.93295288085938, 62.3043327331543, 56.94610595703125, 40.87196731567383, 44.68504333496094, 48.19824981689453, 73.37716674804688, 10.528067588806152, 10.531059265136719, 7.903481960296631, 10.542187690734863, 7.908002853393555, 7.034696102142334, 16.68518829345703, 7.0350341796875, 5.282230854034424, 5.282223224639893, 6.162123680114746, 17.606719970703125, 4.4088850021362305, 4.409467697143555, 11.447930335998535, 4.408568859100342, 4.411613464355469, 5.293251991271973, 7.948490619659424, 9.688765525817871, 4.411903381347656, 22.93597984313965, 7.95777702331543, 37.945152282714844, 5.304274559020996, 14.968079566955566, 3.533855676651001, 3.533553123474121, 3.5343000888824463, 3.5343031883239746, 4.42264986038208, 18.587200164794922, 12.337980270385742, 15.015671730041504, 12.417461395263672, 14.210497856140137, 20.43315315246582, 22.979808807373047, 28.534515380859375, 15.947178840637207, 41.01368713378906, 39.191688537597656, 69.9865951538086, 27.645580291748047, 87.5643310546875, 38.13727951049805, 67.71099853515625, 27.632949829101562, 78.30464935302734, 35.62641143798828, 49.569854736328125, 46.92962646484375, 73.37716674804688, 46.983367919921875, 26.70879554748535, 131.08074951171875, 39.971736907958984, 243.91714477539062, 340.9182434082031, 108.32270050048828, 234.25006103515625, 63.67430114746094, 44.80882263183594, 64.79670715332031, 50.97689437866211, 144.93295288085938, 210.70468139648438, 260.75885009765625, 128.0005340576172, 164.53932189941406, 52.170654296875, 56.80465316772461, 7.554023265838623, 6.602714538574219, 6.601316452026367, 6.600887298583984, 5.657689571380615, 6.598475456237793, 5.657424449920654, 5.656835556030273, 5.655386924743652, 5.653348922729492, 6.5918145179748535, 5.650409698486328, 7.532090187072754, 5.651723384857178, 4.707620620727539, 4.705519676208496, 4.705655574798584, 4.705862045288086, 20.681440353393555, 4.702561378479004, 4.701470851898193, 10.320666313171387, 3.7585580348968506, 10.352312088012695, 5.632321834564209, 3.758369207382202, 3.757551431655884, 3.757451057434082, 3.756751537322998, 3.756467342376709, 8.439748764038086, 10.332484245300293, 14.104849815368652, 13.123615264892578, 8.449813842773438, 34.46870422363281, 13.098382949829102, 12.204815864562988, 20.521377563476562, 29.759075164794922, 63.252769470214844, 12.197678565979004, 8.451727867126465, 57.504783630371094, 35.105247497558594, 10.31977653503418, 25.906097412109375, 39.56646728515625, 260.75885009765625, 11.241584777832031, 59.91895294189453, 108.32270050048828, 28.73941421508789, 63.67430114746094, 144.93295288085938, 65.65263366699219, 44.72761535644531, 15.838521003723145, 136.85801696777344, 52.154449462890625, 27.871822357177734, 36.54844665527344, 31.299915313720703, 164.53932189941406, 96.74720764160156, 128.0005340576172, 46.983367919921875, 46.92962646484375, 66.66975402832031, 78.30464935302734, 340.9182434082031, 87.46466064453125, 49.98486328125, 49.569854736328125, 190.55319213867188, 56.767608642578125], \"loglift\": [30.0, 29.0, 28.0, 27.0, 26.0, 25.0, 24.0, 23.0, 22.0, 21.0, 20.0, 19.0, 18.0, 17.0, 16.0, 15.0, 14.0, 13.0, 12.0, 11.0, 10.0, 9.0, 8.0, 7.0, 6.0, 5.0, 4.0, 3.0, 2.0, 1.0, 0.8468999862670898, 0.8230999708175659, 0.8093000054359436, 0.7896000146865845, 0.7893999814987183, 0.7839999794960022, 0.765999972820282, 0.7638999819755554, 0.7627000212669373, 0.7598999738693237, 0.7597000002861023, 0.755299985408783, 0.755299985408783, 0.7511000037193298, 0.7506999969482422, 0.7487000226974487, 0.7440999746322632, 0.7433000206947327, 0.7404999732971191, 0.7382000088691711, 0.7378000020980835, 0.7373999953269958, 0.7342000007629395, 0.7328000068664551, 0.7282000184059143, 0.7229999899864197, 0.7166000008583069, 0.7092000246047974, 0.7071999907493591, 0.7059999704360962, 0.6972000002861023, 0.7006000280380249, 0.6553999781608582, 0.6046000123023987, 0.682200014591217, 0.5981000065803528, 0.5080000162124634, 0.6808000206947327, 0.5088000297546387, 0.5874999761581421, 0.5611000061035156, 0.6775000095367432, 0.4178999960422516, 0.5322999954223633, 0.6144999861717224, 0.6223999857902527, 0.47029998898506165, 0.6384000182151794, 0.5648000240325928, 0.6205000281333923, 0.4253999888896942, 0.48890000581741333, 0.2612000107765198, 0.5719000101089478, 0.16200000047683716, 0.3328999876976013, 0.39419999718666077, 0.4690999984741211, 0.4880000054836273, 0.25380000472068787, 0.17020000517368317, 0.14710000157356262, 0.32659998536109924, 0.241799995303154, 0.1800999939441681, 0.2076999992132187, -0.2070000022649765, 0.18119999766349792, 0.2264000028371811, 0.37380000948905945, 0.2924000024795532, 0.22310000658035278, -0.1899999976158142, 1.0194000005722046, 1.0159000158309937, 1.0047999620437622, 1.0010000467300415, 0.9945999979972839, 0.9811000227928162, 0.9807999730110168, 0.9797000288963318, 0.9595000147819519, 0.9520999789237976, 0.9420999884605408, 0.934499979019165, 0.9279000163078308, 0.9265999794006348, 0.925000011920929, 0.925000011920929, 0.9128999710083008, 0.9118000268936157, 0.9096999764442444, 0.9075999855995178, 0.9059000015258789, 0.90420001745224, 0.9041000008583069, 0.902999997138977, 0.9004999995231628, 0.896399974822998, 0.8899999856948853, 0.8888000249862671, 0.8870999813079834, 0.8867999911308289, 0.8852999806404114, 0.8614000082015991, 0.8665000200271606, 0.8586000204086304, 0.8564000129699707, 0.8496000170707703, 0.8220000267028809, 0.8047999739646912, 0.7781999707221985, 0.8206999897956848, 0.7236999869346619, 0.7282000184059143, 0.6547999978065491, 0.7519000172615051, 0.5544999837875366, 0.677299976348877, 0.57669997215271, 0.710099995136261, 0.48240000009536743, 0.6431000232696533, 0.572700023651123, 0.5802000164985657, 0.4487999975681305, 0.5551999807357788, 0.6699000000953674, 0.20250000059604645, 0.5351999998092651, -0.07129999995231628, -0.1987999975681305, 0.17579999566078186, -0.10530000180006027, 0.3628999888896942, 0.48649999499320984, 0.325300008058548, 0.4081999957561493, -0.09309999644756317, -0.400299996137619, -0.6230000257492065, -0.20990000665187836, -0.38119998574256897, 0.2842000126838684, 0.14740000665187836, 1.226199984550476, 1.212399959564209, 1.2080999612808228, 1.2067999839782715, 1.2065000534057617, 1.2032999992370605, 1.2031999826431274, 1.2022000551223755, 1.1993000507354736, 1.19350004196167, 1.1897000074386597, 1.1854000091552734, 1.1797000169754028, 1.1793999671936035, 1.1783000230789185, 1.1742000579833984, 1.1734999418258667, 1.1711000204086304, 1.167199969291687, 1.159600019454956, 1.1592999696731567, 1.1482000350952148, 1.1440000534057617, 1.1440000534057617, 1.1439000368118286, 1.142799973487854, 1.1389000415802002, 1.1383999586105347, 1.135599970817566, 1.1347999572753906, 1.129699945449829, 1.1223000288009644, 1.1121000051498413, 1.101699948310852, 1.1096999645233154, 1.0356999635696411, 1.0774999856948853, 1.0822999477386475, 1.0398999452590942, 1.0020999908447266, 0.8741999864578247, 1.0571999549865723, 1.0993000268936157, 0.7782999873161316, 0.8607000112533569, 1.0643999576568604, 0.8639000058174133, 0.7698000073432922, 0.27149999141693115, 1.0371999740600586, 0.6158000230789185, 0.451200008392334, 0.792900025844574, 0.5738999843597412, 0.33480000495910645, 0.5358999967575073, 0.6280999779701233, 0.9286999702453613, 0.1720000058412552, 0.5045999884605408, 0.7175999879837036, 0.5877000093460083, 0.6452999711036682, -0.06129999831318855, 0.11749999970197678, -0.04780000075697899, 0.4296000003814697, 0.3937000036239624, 0.19429999589920044, 0.08569999784231186, -0.8393999934196472, -0.028999999165534973, 0.33180001378059387, 0.3084999918937683, -0.8569999933242798, 0.120899997651577], \"logprob\": [30.0, 29.0, 28.0, 27.0, 26.0, 25.0, 24.0, 23.0, 22.0, 21.0, 20.0, 19.0, 18.0, 17.0, 16.0, 15.0, 14.0, 13.0, 12.0, 11.0, 10.0, 9.0, 8.0, 7.0, 6.0, 5.0, 4.0, 3.0, 2.0, 1.0, -6.207699775695801, -6.519000053405762, -6.820499897003174, -6.957799911499023, -6.734000205993652, -6.9629998207092285, -7.269100189208984, -7.271100044250488, -7.117400169372559, -7.1219000816345215, -6.871300220489502, -7.279699802398682, -7.279699802398682, -7.283599853515625, -7.2845001220703125, -7.286300182342529, -6.440899848937988, -7.291600227355957, -7.476799964904785, -7.479000091552734, -7.479400157928467, -7.479800224304199, -7.482999801635742, -6.894700050354004, -7.3078999519348145, -5.886600017547607, -6.621699810028076, -7.507900238037109, -7.732999801635742, -7.734099864959717, -5.695000171661377, -6.287799835205078, -3.824199914932251, -3.7744998931884766, -5.969299793243408, -4.820300102233887, -3.7246999740600586, -6.443399906158447, -3.764400005340576, -5.077499866485596, -5.002099990844727, -6.435400009155273, -3.4800000190734863, -4.8582000732421875, -5.752699851989746, -5.872399806976318, -4.3403000831604, -6.198599815368652, -5.685100078582764, -6.111599922180176, -4.9222002029418945, -5.4653000831604, -4.365200042724609, -5.89139986038208, -4.003900051116943, -4.92549991607666, -5.29640007019043, -5.572199821472168, -5.671800136566162, -4.90369987487793, -4.707300186157227, -4.706600189208984, -5.385799884796143, -5.303400039672852, -5.349699974060059, -5.420100212097168, -4.960299968719482, -5.416299819946289, -5.461100101470947, -5.645299911499023, -5.637499809265137, -5.631100177764893, -5.623899936676025, -6.356100082397461, -6.359300136566162, -6.657400131225586, -6.373199939727783, -6.667099952697754, -6.797599792480469, -5.934199810028076, -6.798900127410889, -7.1057000160217285, -7.113100051879883, -6.968999862670898, -5.926799774169922, -7.317999839782715, -7.319200038909912, -6.366700172424316, -7.321000099182129, -7.332399845123291, -7.151299953460693, -6.7469000816345215, -6.551000118255615, -7.339300155639648, -5.692599773406982, -6.751299858093262, -5.190499782562256, -7.160600185394287, -6.127200126647949, -7.577199935913086, -7.578400135040283, -7.579999923706055, -7.5802998542785645, -7.357500076293945, -5.945700168609619, -6.350399971008301, -6.161900043487549, -6.354000091552734, -6.22599983215332, -5.890399932861328, -5.790200233459473, -5.600200176239014, -6.139599800109863, -5.291900157928467, -5.332900047302246, -4.826399803161621, -5.658199787139893, -4.702700138092041, -5.410999774932861, -4.937600135803223, -5.700399875640869, -4.886499881744385, -5.513400077819824, -5.253499984741211, -5.3007001876831055, -4.985199928283691, -5.32450008392334, -5.774600028991699, -4.651299953460693, -5.506199836730957, -4.303999900817871, -4.096700191497803, -4.868599891662598, -4.378399848937988, -5.212800025939941, -5.4405999183654785, -5.232999801635742, -5.389999866485596, -4.846399784088135, -4.779399871826172, -4.788899898529053, -5.087399959564209, -5.007599830627441, -5.490799903869629, -5.542600154876709, -6.481299877166748, -6.6296000480651855, -6.634200096130371, -6.6356000900268555, -6.789999961853027, -6.639400005340576, -6.793399810791016, -6.79449987411499, -6.797699928283691, -6.803800106048584, -6.6539998054504395, -6.812399864196777, -6.530700206756592, -6.81820011138916, -7.001999855041504, -7.0065999031066895, -7.007299900054932, -7.0096001625061035, -5.533100128173828, -7.0218000411987305, -7.02239990234375, -6.247200012207031, -7.261499881744385, -6.248300075531006, -6.857100009918213, -7.262800216674805, -7.266900062561035, -7.267399787902832, -7.270400047302246, -7.271299839019775, -6.466899871826172, -6.271999835968018, -5.970900058746338, -6.053400039672852, -6.485799789428711, -5.153800010681152, -6.079500198364258, -6.145400047302246, -5.6682000160217285, -5.3343000411987305, -4.708199977874756, -6.17110013961792, -6.4959001541137695, -4.8993000984191895, -5.310500144958496, -6.331099987030029, -5.611199855804443, -5.281799793243408, -3.894399881362915, -6.272799968719482, -5.020699977874756, -4.593200206756592, -5.578400135040283, -5.0019001960754395, -4.418499946594238, -5.009200096130371, -5.30079984664917, -6.038400173187256, -4.638599872589111, -5.270699977874756, -5.684299945831299, -5.5432000160217285, -5.640600204467773, -4.687699794769287, -5.039899826049805, -4.925300121307373, -5.450200080871582, -5.487199783325195, -5.3354997634887695, -5.283299922943115, -4.737299919128418, -5.287300109863281, -5.486000061035156, -5.5177001953125, -5.336699962615967, -5.569699764251709]}, \"token.table\": {\"Topic\": [2, 3, 1, 3, 1, 2, 3, 1, 2, 3, 3, 1, 1, 1, 3, 1, 3, 2, 1, 2, 3, 2, 3, 3, 1, 2, 3, 1, 1, 2, 3, 1, 2, 3, 1, 2, 3, 1, 2, 3, 2, 3, 1, 2, 3, 2, 1, 2, 3, 1, 2, 3, 1, 1, 1, 2, 3, 1, 1, 2, 3, 1, 3, 1, 2, 3, 1, 2, 3, 1, 1, 2, 3, 3, 1, 3, 1, 2, 3, 2, 1, 2, 3, 1, 3, 2, 1, 2, 1, 1, 2, 3, 3, 1, 2, 3, 3, 1, 2, 3, 1, 2, 3, 1, 2, 3, 1, 2, 1, 2, 3, 3, 1, 2, 3, 1, 2, 3, 1, 2, 3, 1, 3, 1, 2, 3, 1, 2, 3, 3, 1, 2, 3, 1, 2, 3, 3, 1, 2, 3, 1, 2, 3, 1, 2, 3, 1, 1, 1, 2, 3, 1, 2, 3, 3, 1, 2, 3, 1, 2, 3, 1, 2, 3, 1, 2, 3, 1, 2, 3, 2, 1, 2, 3, 1, 2, 3, 1, 3, 1, 2, 3, 3, 1, 2, 1, 2, 3, 2, 1, 2, 3, 1, 2, 3, 1, 2, 3, 1, 2, 1, 2, 3, 1, 2, 3, 1, 2, 3, 1, 2, 3, 1, 2, 3, 1, 2, 3, 1, 2, 3, 1, 3, 1, 2, 3, 1, 2, 3, 2, 1, 2, 3, 2, 1, 3, 1, 2, 1, 2, 3, 1, 2, 3, 1, 1, 3, 1, 2, 3, 1, 2, 3, 1, 1, 2, 3, 1, 2, 3, 3, 1, 2, 3, 1, 2, 3, 2, 2, 1, 2, 3, 1, 3, 1, 2, 3, 1, 2, 3, 1, 2, 3, 1, 2, 3, 1, 2, 3, 1, 2, 3, 1, 2, 3, 1, 1, 2, 3, 1, 2, 3, 1, 2, 3, 1, 2, 3, 1, 2, 3, 1, 2, 3, 3, 1, 3, 1, 2, 3, 1, 2, 3, 1, 2, 3, 3, 1, 3, 2, 3, 2, 1, 3, 2, 2, 3, 3, 1, 2, 3, 3, 2, 3, 1, 2, 3, 1, 2, 3, 1, 2, 3, 1, 2, 3, 3, 1, 2, 3, 1, 1, 2, 3, 1, 2, 3, 1, 2, 3, 1, 1, 2, 3, 2, 3, 1, 3, 1, 2, 3, 1, 2, 3, 1, 2, 3, 1, 2, 3, 3, 2, 1, 3, 1, 2, 3, 2, 2, 1, 2, 3, 1, 2, 3, 1, 2, 3, 1, 2, 3, 1, 1, 2, 3, 1, 2, 3, 1, 2, 3, 1, 2, 3, 2], \"Freq\": [0.9465711116790771, 0.8500409722328186, 0.8263276219367981, 0.7986226677894592, 0.05802365019917488, 0.20308277010917664, 0.7543074488639832, 0.918617844581604, 0.09689296782016754, 0.8720366954803467, 0.8846858739852905, 0.9184115529060364, 0.8263484835624695, 0.9183876514434814, 0.8500655293464661, 0.9439032673835754, 0.15731720626354218, 0.9073238968849182, 0.12757806479930878, 0.6889215707778931, 0.17860929667949677, 0.1775466650724411, 0.8877333402633667, 0.8496861457824707, 0.07234429568052292, 0.6872708201408386, 0.21703287959098816, 0.8266167640686035, 0.22464509308338165, 0.6364944577217102, 0.14976340532302856, 0.4979434013366699, 0.22822405397891998, 0.26971933245658875, 0.03504527732729912, 0.7359508275985718, 0.24531693756580353, 0.25254884362220764, 0.12627442181110382, 0.6945092678070068, 0.9485697150230408, 0.09485697001218796, 0.2875407040119171, 0.22364278137683868, 0.511183500289917, 0.848823606967926, 0.11848694086074829, 0.11848694086074829, 0.829408586025238, 0.4765605032444, 0.26562389731407166, 0.24999895691871643, 0.9194035530090332, 0.9185627102851868, 0.36418941617012024, 0.4408608675003052, 0.19167864322662354, 0.9181557297706604, 0.7134104371070862, 0.13958030939102173, 0.15508922934532166, 0.8809972405433655, 0.11012465506792068, 0.14475472271442413, 0.6875849366188049, 0.18094339966773987, 0.9183580875396729, 0.9044351577758789, 0.22610878944396973, 0.8815779089927673, 0.3407054543495178, 0.5178722739219666, 0.14991039037704468, 0.8848915696144104, 0.1639656275510788, 0.7378453016281128, 0.3311876356601715, 0.3035886585712433, 0.37258607149124146, 0.8529152870178223, 0.164165660738945, 0.3556922674179077, 0.4651360511779785, 0.8236333727836609, 0.09151481837034225, 0.9495720863342285, 0.8126506209373474, 0.14775465428829193, 0.8574385046958923, 0.17791086435317993, 0.08895543217658997, 0.7116434574127197, 0.883794367313385, 0.10760092735290527, 0.8070069551467896, 0.10760092735290527, 0.8838863968849182, 0.8172479271888733, 0.0710650384426117, 0.10659755766391754, 0.5168107748031616, 0.1860518753528595, 0.2997502386569977, 0.6477664113044739, 0.140818789601326, 0.19714629650115967, 0.16228172183036804, 0.8114085793495178, 0.7480025887489319, 0.11810567229986191, 0.11810567229986191, 0.8500036597251892, 0.1263696402311325, 0.3032871186733246, 0.5813003182411194, 0.5602262616157532, 0.18293102085590363, 0.25153017044067383, 0.6250870227813721, 0.1750243753194809, 0.20002785325050354, 0.8035048842430115, 0.14609180390834808, 0.1331941783428192, 0.7991650700569153, 0.0665970891714096, 0.05674879625439644, 0.5674879550933838, 0.3972415626049042, 0.8844315409660339, 0.6723594665527344, 0.30748146772384644, 0.020498763769865036, 0.04894007369875908, 0.7341011166572571, 0.19576029479503632, 0.7983922362327576, 0.47553515434265137, 0.17640820145606995, 0.3451464772224426, 0.776025116443634, 0.16629110276699066, 0.05543036386370659, 0.5092534422874451, 0.29852786660194397, 0.19316509366035461, 0.96473228931427, 0.8814898133277893, 0.7211923003196716, 0.10302747786045074, 0.1717124581336975, 0.7827882170677185, 0.13813909888267517, 0.046046365052461624, 0.8841128349304199, 0.047114770859479904, 0.47114768624305725, 0.47114768624305725, 0.12581005692481995, 0.8806703686714172, 0.12581005692481995, 0.28843170404434204, 0.6555265784263611, 0.05244212597608566, 0.12191051989793777, 0.6826989054679871, 0.19505684077739716, 0.6744928956031799, 0.2988259494304657, 0.02988259680569172, 0.8488243818283081, 0.15440380573272705, 0.23160570859909058, 0.6176152229309082, 0.05993339791893959, 0.8990009427070618, 0.05993339791893959, 0.11831900477409363, 0.828233003616333, 0.1638697385787964, 0.0819348692893982, 0.8193486928939819, 0.7984135746955872, 0.10321232676506042, 0.8256986141204834, 0.021284127607941628, 0.5746714472770691, 0.4043984115123749, 0.9071389436721802, 0.021308500319719315, 0.596638023853302, 0.38355302810668945, 0.43054234981536865, 0.03587852790951729, 0.5381779670715332, 0.6130502223968506, 0.27279266715049744, 0.11439692974090576, 0.13361766934394836, 0.801706075668335, 0.12541402876377106, 0.7524842023849487, 0.12541402876377106, 0.31301742792129517, 0.10433914512395859, 0.5738652944564819, 0.6649243831634521, 0.1604989916086197, 0.18342740833759308, 0.465362012386322, 0.40433090925216675, 0.12206216156482697, 0.0761985182762146, 0.0761985182762146, 0.761985182762146, 0.5178771615028381, 0.030463362112641335, 0.45695045590400696, 0.2175823152065277, 0.7397798895835876, 0.04351646453142166, 0.9185961484909058, 0.9089096188545227, 0.17878887057304382, 0.5363666415214539, 0.29372456669807434, 0.5989331007003784, 0.10569407790899277, 0.2994665503501892, 0.9498419165611267, 0.32409054040908813, 0.4629864990711212, 0.2160603553056717, 0.9066381454467773, 0.09659677743911743, 0.8693709969520569, 0.8584123849868774, 0.12263034284114838, 0.4002828299999237, 0.575406551361084, 0.02501767687499523, 0.5370924472808838, 0.17903082072734833, 0.2685462236404419, 0.8263630270957947, 0.8635550737380981, 0.0785050094127655, 0.0974593460559845, 0.14618901908397675, 0.7309451103210449, 0.19386518001556396, 0.39696204662323, 0.4154253900051117, 0.9184350967407227, 0.04835253208875656, 0.09670506417751312, 0.8703455924987793, 0.34292280673980713, 0.6429802775382996, 0.02857690118253231, 0.9102197885513306, 0.6503090262413025, 0.03653421252965927, 0.3141942322254181, 0.16210108995437622, 0.8105054497718811, 0.9266585111618042, 0.8528743386268616, 0.7556791305541992, 0.7624143958091736, 0.20793119072914124, 0.03465519845485687, 0.881700873374939, 0.908717155456543, 0.26843348145484924, 0.2876072824001312, 0.440997838973999, 0.1327652782201767, 0.1327652782201767, 0.7965916395187378, 0.06720639020204544, 0.20161916315555573, 0.7056670784950256, 0.7487241625785828, 0.09982988983392715, 0.14974482357501984, 0.7403727173805237, 0.22306101024150848, 0.037967830896377563, 0.0763453021645546, 0.1526906043291092, 0.7634530067443848, 0.08735203742980957, 0.8735203146934509, 0.08735203742980957, 0.8815939426422119, 0.2600787281990051, 0.3801150619983673, 0.36010903120040894, 0.5226714015007019, 0.22487026453018188, 0.24918055534362793, 0.11834580451250076, 0.11834580451250076, 0.8284206390380859, 0.7766860127449036, 0.11020544916391373, 0.11020544916391373, 0.48150745034217834, 0.3210049569606781, 0.1926029771566391, 0.35047340393066406, 0.1502028852701187, 0.48398709297180176, 0.9089686870574951, 0.8554410934448242, 0.12220587581396103, 0.4799777865409851, 0.19499096274375916, 0.3149854242801666, 0.2783633768558502, 0.1391816884279251, 0.5915221571922302, 0.7248473763465881, 0.19074931740760803, 0.07629972696304321, 0.8506003022193909, 0.8815932869911194, 0.7981784343719482, 0.7740756273269653, 0.21111153066158295, 0.849003791809082, 0.8384813666343689, 0.12899713218212128, 0.8851792216300964, 0.8796426653862, 0.12566323578357697, 0.8507975935935974, 0.6504392623901367, 0.17511825263500214, 0.17511825263500214, 0.7982185482978821, 0.7541087865829468, 0.1885271966457367, 0.8390529155731201, 0.08832135796546936, 0.04416067898273468, 0.4963259994983673, 0.3308839797973633, 0.16544198989868164, 0.0967821478843689, 0.0967821478843689, 0.7742571830749512, 0.5871995091438293, 0.1957331746816635, 0.2201998233795166, 0.9093009233474731, 0.7380360960960388, 0.12076953798532486, 0.14760722219944, 0.9183210730552673, 0.08943020552396774, 0.4247934818267822, 0.4918661415576935, 0.06052065268158913, 0.5850329995155334, 0.36312392354011536, 0.5581339597702026, 0.3780907392501831, 0.0540129654109478, 0.8815329670906067, 0.11394307762384415, 0.2563719153404236, 0.6266869306564331, 0.9072588682174683, 0.7985622882843018, 0.14179520308971405, 0.7798736095428467, 0.22455251216888428, 0.6175193786621094, 0.14034532010555267, 0.10541530698537827, 0.8169686794281006, 0.07906148582696915, 0.39233461022377014, 0.4904182553291321, 0.11770038306713104, 0.2626640200614929, 0.5824289321899414, 0.15988245606422424, 0.8837530016899109, 0.8856855630874634, 0.1938026398420334, 0.7752105593681335, 0.0805317610502243, 0.8053175806999207, 0.1610635221004486, 0.848931074142456, 0.9066977500915527, 0.4225006103515625, 0.38729220628738403, 0.19364610314369202, 0.11359298974275589, 0.8519474267959595, 0.056796494871377945, 0.26780441403388977, 0.5356088280677795, 0.20085330307483673, 0.6916554570198059, 0.23490186035633087, 0.07830061763525009, 0.7879480719566345, 0.08719924092292786, 0.8283928036689758, 0.08719924092292786, 0.29537299275398254, 0.5907459855079651, 0.10338054597377777, 0.7088489532470703, 0.21573664247989655, 0.06163904070854187, 0.2687629461288452, 0.09485750645399094, 0.632383406162262, 0.9465697407722473], \"Term\": [\"'fair\", \"'last\", \"'major\", \"'nerd\", \"'starman\", \"'starman\", \"'starman\", \"1,550\", \"10-year\", \"10-year\", \"11,925\", \"2020\", \"265.00\", \"50th\", \"aapl\", \"advertis\", \"advertis\", \"agre\", \"amber\", \"amber\", \"amber\", \"analyz\", \"analyz\", \"arizona\", \"asteroid\", \"asteroid\", \"asteroid\", \"attempt\", \"australia\", \"australia\", \"australia\", \"batteri\", \"batteri\", \"batteri\", \"belt\", \"belt\", \"belt\", \"bezo\", \"bezo\", \"bezo\", \"bigger\", \"bigger\", \"biggest\", \"biggest\", \"biggest\", \"bind\", \"borderland\", \"borderland\", \"borderland\", \"bore\", \"bore\", \"bore\", \"bowi\", \"branson\", \"build\", \"build\", \"build\", \"calm\", \"car\", \"car\", \"car\", \"carri\", \"carri\", \"charg\", \"charg\", \"charg\", \"cheer\", \"children\", \"children\", \"chilli\", \"china\", \"china\", \"china\", \"citigroup\", \"closer\", \"closer\", \"compani\", \"compani\", \"compani\", \"comparison\", \"compens\", \"compens\", \"compens\", \"competit\", \"competit\", \"concern\", \"cost\", \"cost\", \"costum\", \"critic\", \"critic\", \"critic\", \"crowd\", \"cryptocurr\", \"cryptocurr\", \"cryptocurr\", \"data\", \"day\", \"day\", \"day\", \"delay\", \"delay\", \"delay\", \"deliveri\", \"deliveri\", \"deliveri\", \"depp\", \"depp\", \"dream\", \"dream\", \"dream\", \"e-truck\", \"earn\", \"earn\", \"earn\", \"earth\", \"earth\", \"earth\", \"electr\", \"electr\", \"electr\", \"exec\", \"exec\", \"execut\", \"execut\", \"execut\", \"expect\", \"expect\", \"expect\", \"explor\", \"falcon\", \"falcon\", \"falcon\", \"firm\", \"firm\", \"firm\", \"flame\", \"flamethrow\", \"flamethrow\", \"flamethrow\", \"flight\", \"flight\", \"flight\", \"get\", \"get\", \"get\", \"gigafactori\", \"glimps\", \"go\", \"go\", \"go\", \"good\", \"good\", \"good\", \"goog\", \"group\", \"group\", \"group\", \"growth\", \"growth\", \"growth\", \"head\", \"head\", \"head\", \"hear\", \"hear\", \"hear\", \"heavi\", \"heavi\", \"heavi\", \"high-tech\", \"hit\", \"hit\", \"hit\", \"hold\", \"hold\", \"hold\", \"i-pac\", \"i-pac\", \"imag\", \"imag\", \"imag\", \"in-car\", \"inspir\", \"inspir\", \"kandi\", \"kandi\", \"kandi\", \"kiosk\", \"kndi\", \"kndi\", \"kndi\", \"know\", \"know\", \"know\", \"launch\", \"launch\", \"launch\", \"lewi\", \"lewi\", \"long\", \"long\", \"long\", \"loss\", \"loss\", \"loss\", \"make\", \"make\", \"make\", \"mar\", \"mar\", \"mar\", \"mileston\", \"mileston\", \"mileston\", \"million\", \"million\", \"million\", \"mission\", \"mission\", \"mission\", \"moon\", \"museum\", \"nasdaq\", \"nasdaq\", \"nasdaq\", \"news\", \"news\", \"news\", \"oppos\", \"orbit\", \"orbit\", \"orbit\", \"origin\", \"outer\", \"outer\", \"overal\", \"overal\", \"packag\", \"packag\", \"packag\", \"parti\", \"parti\", \"parti\", \"pass\", \"pedestrian\", \"pedestrian\", \"perform\", \"perform\", \"perform\", \"plan\", \"plan\", \"plan\", \"point\", \"posit\", \"posit\", \"posit\", \"power\", \"power\", \"power\", \"pre-ord\", \"product\", \"product\", \"product\", \"proxi\", \"proxi\", \"qualiti\", \"quit\", \"quot\", \"race\", \"race\", \"race\", \"redditor\", \"renew\", \"report\", \"report\", \"report\", \"restaur\", \"restaur\", \"restaur\", \"review\", \"review\", \"review\", \"rise\", \"rise\", \"rise\", \"rocket\", \"rocket\", \"rocket\", \"roof\", \"roof\", \"roof\", \"rule\", \"rule\", \"rule\", \"russia\", \"sale\", \"sale\", \"sale\", \"say\", \"say\", \"say\", \"secur\", \"secur\", \"secur\", \"sell\", \"sell\", \"sell\", \"semi\", \"semi\", \"semi\", \"send\", \"send\", \"send\", \"serbia\", \"shanghai\", \"shanghai\", \"share\", \"share\", \"share\", \"shoot\", \"shoot\", \"shoot\", \"show\", \"show\", \"show\", \"showcas\", \"sign\", \"snap\", \"soon\", \"soon\", \"spartan\", \"spend\", \"spend\", \"split\", \"spur\", \"spur\", \"stand\", \"starman\", \"starman\", \"starman\", \"statement\", \"steal\", \"steal\", \"stick\", \"stick\", \"stick\", \"stock\", \"stock\", \"stock\", \"stop\", \"stop\", \"stop\", \"success\", \"success\", \"success\", \"suffer\", \"target\", \"target\", \"target\", \"taunt\", \"tech\", \"tech\", \"tech\", \"technolog\", \"technolog\", \"technolog\", \"test\", \"test\", \"test\", \"thaw\", \"thing\", \"thing\", \"thing\", \"thought\", \"thrower\", \"tie\", \"tie\", \"track\", \"track\", \"track\", \"trade\", \"trade\", \"trade\", \"truck\", \"truck\", \"truck\", \"trump\", \"trump\", \"trump\", \"twtr\", \"uneven\", \"upbeat\", \"upbeat\", \"upgrad\", \"upgrad\", \"upgrad\", \"urban\", \"user\", \"video\", \"video\", \"video\", \"virtual\", \"virtual\", \"virtual\", \"want\", \"want\", \"want\", \"watch\", \"watch\", \"watch\", \"welcom\", \"work\", \"work\", \"work\", \"world\", \"world\", \"world\", \"worth\", \"worth\", \"worth\", \"year\", \"year\", \"year\", \"zack\"]}, \"R\": 30, \"lambda.step\": 0.01, \"plot.opts\": {\"xlab\": \"PC1\", \"ylab\": \"PC2\"}, \"topic.order\": [1, 3, 2]};\n",
       "\n",
       "function LDAvis_load_lib(url, callback){\n",
       "  var s = document.createElement('script');\n",
       "  s.src = url;\n",
       "  s.async = true;\n",
       "  s.onreadystatechange = s.onload = callback;\n",
       "  s.onerror = function(){console.warn(\"failed to load library \" + url);};\n",
       "  document.getElementsByTagName(\"head\")[0].appendChild(s);\n",
       "}\n",
       "\n",
       "if(typeof(LDAvis) !== \"undefined\"){\n",
       "   // already loaded: just create the visualization\n",
       "   !function(LDAvis){\n",
       "       new LDAvis(\"#\" + \"ldavis_el2894428808972381441654378024\", ldavis_el2894428808972381441654378024_data);\n",
       "   }(LDAvis);\n",
       "}else if(typeof define === \"function\" && define.amd){\n",
       "   // require.js is available: use it to load d3/LDAvis\n",
       "   require.config({paths: {d3: \"https://cdnjs.cloudflare.com/ajax/libs/d3/3.5.5/d3.min\"}});\n",
       "   require([\"d3\"], function(d3){\n",
       "      window.d3 = d3;\n",
       "      LDAvis_load_lib(\"https://cdn.rawgit.com/bmabey/pyLDAvis/files/ldavis.v1.0.0.js\", function(){\n",
       "        new LDAvis(\"#\" + \"ldavis_el2894428808972381441654378024\", ldavis_el2894428808972381441654378024_data);\n",
       "      });\n",
       "    });\n",
       "}else{\n",
       "    // require.js not available: dynamically load d3 & LDAvis\n",
       "    LDAvis_load_lib(\"https://cdnjs.cloudflare.com/ajax/libs/d3/3.5.5/d3.min.js\", function(){\n",
       "         LDAvis_load_lib(\"https://cdn.rawgit.com/bmabey/pyLDAvis/files/ldavis.v1.0.0.js\", function(){\n",
       "                 new LDAvis(\"#\" + \"ldavis_el2894428808972381441654378024\", ldavis_el2894428808972381441654378024_data);\n",
       "            })\n",
       "         });\n",
       "}\n",
       "</script>"
      ],
      "text/plain": [
       "PreparedData(topic_coordinates=              x         y  topics  cluster       Freq\n",
       "topic                                                \n",
       "0      0.079186  0.037650       1        1  40.448795\n",
       "2     -0.002928 -0.079811       2        1  33.124298\n",
       "1     -0.076258  0.042161       3        1  26.426908, topic_info=     Category        Freq        Term       Total  loglift  logprob\n",
       "490   Default  243.000000      falcon  243.000000  30.0000  30.0000\n",
       "30    Default  210.000000      rocket  210.000000  29.0000  29.0000\n",
       "565   Default  234.000000       heavi  234.000000  28.0000  28.0000\n",
       "44    Default  190.000000        sell  190.000000  27.0000  27.0000\n",
       "219   Default  136.000000     product  136.000000  26.0000  26.0000\n",
       "186   Default   63.000000        year   63.000000  25.0000  25.0000\n",
       "22    Default   63.000000       group   63.000000  24.0000  24.0000\n",
       "1025  Default  260.000000  flamethrow  260.000000  23.0000  23.0000\n",
       "1111  Default   34.000000    'starman   34.000000  22.0000  22.0000\n",
       "367   Default   65.000000     million   65.000000  21.0000  21.0000\n",
       "105   Default   69.000000       power   69.000000  20.0000  20.0000\n",
       "23    Default   46.000000       kandi   46.000000  19.0000  19.0000\n",
       "24    Default   46.000000        kndi   46.000000  18.0000  18.0000\n",
       "1211  Default   57.000000        loss   57.000000  17.0000  17.0000\n",
       "66    Default  108.000000        plan  108.000000  16.0000  16.0000\n",
       "54    Default   37.000000       trade   37.000000  15.0000  15.0000\n",
       "171   Default   29.000000      review   29.000000  14.0000  14.0000\n",
       "26    Default   49.000000   technolog   49.000000  13.0000  13.0000\n",
       "225   Default   20.000000       posit   20.000000  12.0000  12.0000\n",
       "29    Default  340.000000      launch  340.000000  11.0000  11.0000\n",
       "246   Default   35.000000       thing   35.000000  10.0000  10.0000\n",
       "99    Default   44.000000        tech   44.000000   9.0000   9.0000\n",
       "334   Default   39.000000        earn   39.000000   8.0000   8.0000\n",
       "339   Default   59.000000        send   59.000000   7.0000   7.0000\n",
       "18    Default   78.000000      nasdaq   78.000000   6.0000   6.0000\n",
       "318   Default   35.000000      expect   35.000000   5.0000   5.0000\n",
       "452   Default   20.000000     perform   20.000000   4.0000   4.0000\n",
       "542   Default   41.000000        hear   41.000000   3.0000   3.0000\n",
       "913   Default   27.000000        know   27.000000   2.0000   2.0000\n",
       "1261  Default   28.000000        belt   28.000000   1.0000   1.0000\n",
       "...       ...         ...         ...         ...      ...      ...\n",
       "169    Topic3   16.241800         hit   25.906097   0.8639  -5.6112\n",
       "334    Topic3   22.577991        earn   39.566467   0.7698  -5.2818\n",
       "1025   Topic3   90.407990  flamethrow  260.758850   0.2715  -3.8944\n",
       "21     Topic3    8.381207      critic   11.241585   1.0372  -6.2728\n",
       "339    Topic3   29.313148        send   59.918953   0.6158  -5.0207\n",
       "66     Topic3   44.950447        plan  108.322701   0.4512  -4.5932\n",
       "603    Topic3   16.783772       shoot   28.739414   0.7929  -5.5784\n",
       "22     Topic3   29.871695       group   63.674301   0.5739  -5.0019\n",
       "6      Topic3   53.530857     compani  144.932953   0.3348  -4.4185\n",
       "367    Topic3   29.651562     million   65.652634   0.5359  -5.0092\n",
       "99     Topic3   22.152420        tech   44.727615   0.6281  -5.3008\n",
       "927    Topic3   10.594411        bezo   15.838521   0.9287  -6.0384\n",
       "219    Topic3   42.954281     product  136.858017   0.1720  -4.6386\n",
       "591    Topic3   22.829725      report   52.154449   0.5046  -5.2707\n",
       "913    Topic3   15.096214        know   27.871822   0.7176  -5.6843\n",
       "86     Topic3   17.384106     compens   36.548447   0.5877  -5.5432\n",
       "289    Topic3   15.770821     biggest   31.299915   0.6453  -5.6406\n",
       "3      Topic3   40.896801         say  164.539322  -0.0613  -4.6877\n",
       "538    Topic3   28.755615       delay   96.747208   0.1175  -5.0399\n",
       "5      Topic3   32.248966        bore  128.000534  -0.0478  -4.9253\n",
       "23     Topic3   19.078918       kandi   46.983368   0.4296  -5.4502\n",
       "24     Topic3   18.385248        kndi   46.929626   0.3937  -5.4872\n",
       "19     Topic3   21.396561       share   66.669754   0.1943  -5.3355\n",
       "18     Topic3   22.544395      nasdaq   78.304649   0.0857  -5.2833\n",
       "29     Topic3   38.918488      launch  340.918243  -0.8394  -4.7373\n",
       "694    Topic3   22.454037       earth   87.464661  -0.0290  -5.2873\n",
       "320    Topic3   18.407743        sale   49.984863   0.3318  -5.4860\n",
       "26     Topic3   17.833179   technolog   49.569855   0.3085  -5.5177\n",
       "44     Topic3   21.372414        sell  190.553192  -0.8570  -5.3367\n",
       "215    Topic3   16.930260        news   56.767609   0.1209  -5.5697\n",
       "\n",
       "[251 rows x 6 columns], token_table=      Topic      Freq       Term\n",
       "term                            \n",
       "207       2  0.946571      'fair\n",
       "1301      3  0.850041      'last\n",
       "1731      1  0.826328     'major\n",
       "1678      3  0.798623      'nerd\n",
       "1111      1  0.058024   'starman\n",
       "1111      2  0.203083   'starman\n",
       "1111      3  0.754307   'starman\n",
       "1728      1  0.918618      1,550\n",
       "1175      2  0.096893    10-year\n",
       "1175      3  0.872037    10-year\n",
       "1068      3  0.884686     11,925\n",
       "970       1  0.918412       2020\n",
       "458       1  0.826348     265.00\n",
       "502       1  0.918388       50th\n",
       "1608      3  0.850066       aapl\n",
       "799       1  0.943903   advertis\n",
       "799       3  0.157317   advertis\n",
       "232       2  0.907324       agre\n",
       "541       1  0.127578      amber\n",
       "541       2  0.688922      amber\n",
       "541       3  0.178609      amber\n",
       "437       2  0.177547     analyz\n",
       "437       3  0.887733     analyz\n",
       "1546      3  0.849686    arizona\n",
       "1260      1  0.072344   asteroid\n",
       "1260      2  0.687271   asteroid\n",
       "1260      3  0.217033   asteroid\n",
       "503       1  0.826617    attempt\n",
       "721       1  0.224645  australia\n",
       "721       2  0.636494  australia\n",
       "...     ...       ...        ...\n",
       "79        2  0.805318     upgrad\n",
       "79        3  0.161064     upgrad\n",
       "36        2  0.848931      urban\n",
       "361       2  0.906698       user\n",
       "37        1  0.422501      video\n",
       "37        2  0.387292      video\n",
       "37        3  0.193646      video\n",
       "892       1  0.113593    virtual\n",
       "892       2  0.851947    virtual\n",
       "892       3  0.056796    virtual\n",
       "156       1  0.267804       want\n",
       "156       2  0.535609       want\n",
       "156       3  0.200853       want\n",
       "348       1  0.691655      watch\n",
       "348       2  0.234902      watch\n",
       "348       3  0.078301      watch\n",
       "1606      1  0.787948     welcom\n",
       "261       1  0.087199       work\n",
       "261       2  0.828393       work\n",
       "261       3  0.087199       work\n",
       "546       1  0.295373      world\n",
       "546       2  0.590746      world\n",
       "546       3  0.103381      world\n",
       "1310      1  0.708849      worth\n",
       "1310      2  0.215737      worth\n",
       "1310      3  0.061639      worth\n",
       "186       1  0.268763       year\n",
       "186       2  0.094858       year\n",
       "186       3  0.632383       year\n",
       "189       2  0.946570       zack\n",
       "\n",
       "[425 rows x 3 columns], R=30, lambda_step=0.01, plot_opts={'xlab': 'PC1', 'ylab': 'PC2'}, topic_order=[1, 3, 2])"
      ]
     },
     "execution_count": 162,
     "metadata": {},
     "output_type": "execute_result"
    }
   ],
   "source": [
    "pyLDAvis.enable_notebook()\n",
    "LDAvis_prepared = pyLDAvis.gensim.prepare(lda_model_2, bow_corpus, dictionary)\n",
    "LDAvis_prepared"
   ]
  },
  {
   "cell_type": "raw",
   "metadata": {},
   "source": [
    "It seems like Topic 3 is closely related to articles such as this: (https://bit.ly/3a8uqcs) while Topic 2 is related to Financial News given presence of TESLA while Topic 1 contains more general tesla news"
   ]
  },
  {
   "cell_type": "markdown",
   "metadata": {},
   "source": [
    "# 4. Model Hyperparametrization LDA"
   ]
  },
  {
   "cell_type": "raw",
   "metadata": {},
   "source": [
    "General Approach: several parameters such as decay and alpha to understand if they can improve the coherence of the baseline model. Current coherence baseline coherence model is: -11.623182"
   ]
  },
  {
   "cell_type": "code",
   "execution_count": 163,
   "metadata": {},
   "outputs": [],
   "source": [
    "#list params in a dictionary\n",
    "dicts_lda = {'num_topics': [3], 'decay': [0.5, 0.8, 0.9], 'alpha': [0.01, 0.15, 0.25, 0.31]}\n",
    "\n",
    "# make list of dicts\n",
    "dict_conv = ut.param_dict_convert(dicts_lda)\n",
    "dict_update = ut.param_dict_convert(dicts_lda)"
   ]
  },
  {
   "cell_type": "code",
   "execution_count": 164,
   "metadata": {},
   "outputs": [
    {
     "data": {
      "text/plain": [
       "[{'num_topics': 3, 'decay': 0.5, 'alpha': 0.01},\n",
       " {'num_topics': 3, 'decay': 0.5, 'alpha': 0.15},\n",
       " {'num_topics': 3, 'decay': 0.5, 'alpha': 0.25},\n",
       " {'num_topics': 3, 'decay': 0.5, 'alpha': 0.31},\n",
       " {'num_topics': 3, 'decay': 0.8, 'alpha': 0.01}]"
      ]
     },
     "execution_count": 164,
     "metadata": {},
     "output_type": "execute_result"
    }
   ],
   "source": [
    "#make\n",
    "dict_conv[:5]"
   ]
  },
  {
   "cell_type": "code",
   "execution_count": 165,
   "metadata": {},
   "outputs": [
    {
     "name": "stderr",
     "output_type": "stream",
     "text": [
      "100%|██████████████████████████████████████████████████████████████████████████████████| 12/12 [00:55<00:00,  4.75s/it]\n"
     ]
    }
   ],
   "source": [
    "with tqdm(total=len(dict_update)) as pbar:\n",
    "    for x in dict_update:\n",
    "        x['coherence'] = gs.GridSearch(bow_corpus, dictionary, x).get_coherence_score('lda-multicore', proces_doc, 'u_mass')\n",
    "        pbar.update(1)"
   ]
  },
  {
   "cell_type": "code",
   "execution_count": 166,
   "metadata": {},
   "outputs": [
    {
     "data": {
      "text/plain": [
       "[{'num_topics': 3, 'decay': 0.5, 'alpha': 0.01},\n",
       " {'num_topics': 3, 'decay': 0.5, 'alpha': 0.15},\n",
       " {'num_topics': 3, 'decay': 0.5, 'alpha': 0.25},\n",
       " {'num_topics': 3, 'decay': 0.5, 'alpha': 0.31},\n",
       " {'num_topics': 3, 'decay': 0.8, 'alpha': 0.01}]"
      ]
     },
     "execution_count": 166,
     "metadata": {},
     "output_type": "execute_result"
    }
   ],
   "source": [
    "dict_conv[:5]"
   ]
  },
  {
   "cell_type": "code",
   "execution_count": 167,
   "metadata": {},
   "outputs": [
    {
     "data": {
      "text/html": [
       "<div>\n",
       "<style scoped>\n",
       "    .dataframe tbody tr th:only-of-type {\n",
       "        vertical-align: middle;\n",
       "    }\n",
       "\n",
       "    .dataframe tbody tr th {\n",
       "        vertical-align: top;\n",
       "    }\n",
       "\n",
       "    .dataframe thead th {\n",
       "        text-align: right;\n",
       "    }\n",
       "</style>\n",
       "<table border=\"1\" class=\"dataframe\">\n",
       "  <thead>\n",
       "    <tr style=\"text-align: right;\">\n",
       "      <th></th>\n",
       "      <th>index</th>\n",
       "      <th>alpha</th>\n",
       "      <th>coherence</th>\n",
       "      <th>decay</th>\n",
       "      <th>num_topics</th>\n",
       "    </tr>\n",
       "  </thead>\n",
       "  <tbody>\n",
       "    <tr>\n",
       "      <th>0</th>\n",
       "      <td>5</td>\n",
       "      <td>0.15</td>\n",
       "      <td>-11.705748</td>\n",
       "      <td>0.8</td>\n",
       "      <td>3</td>\n",
       "    </tr>\n",
       "    <tr>\n",
       "      <th>1</th>\n",
       "      <td>1</td>\n",
       "      <td>0.15</td>\n",
       "      <td>-11.869271</td>\n",
       "      <td>0.5</td>\n",
       "      <td>3</td>\n",
       "    </tr>\n",
       "    <tr>\n",
       "      <th>2</th>\n",
       "      <td>2</td>\n",
       "      <td>0.25</td>\n",
       "      <td>-11.891029</td>\n",
       "      <td>0.5</td>\n",
       "      <td>3</td>\n",
       "    </tr>\n",
       "    <tr>\n",
       "      <th>3</th>\n",
       "      <td>4</td>\n",
       "      <td>0.01</td>\n",
       "      <td>-11.910041</td>\n",
       "      <td>0.8</td>\n",
       "      <td>3</td>\n",
       "    </tr>\n",
       "    <tr>\n",
       "      <th>4</th>\n",
       "      <td>7</td>\n",
       "      <td>0.31</td>\n",
       "      <td>-11.995798</td>\n",
       "      <td>0.8</td>\n",
       "      <td>3</td>\n",
       "    </tr>\n",
       "  </tbody>\n",
       "</table>\n",
       "</div>"
      ],
      "text/plain": [
       "   index  alpha  coherence  decay  num_topics\n",
       "0      5   0.15 -11.705748    0.8           3\n",
       "1      1   0.15 -11.869271    0.5           3\n",
       "2      2   0.25 -11.891029    0.5           3\n",
       "3      4   0.01 -11.910041    0.8           3\n",
       "4      7   0.31 -11.995798    0.8           3"
      ]
     },
     "execution_count": 167,
     "metadata": {},
     "output_type": "execute_result"
    }
   ],
   "source": [
    "#convert to df and sort by highest coherence\n",
    "ut.convert_coherence_df(dict_update).reset_index()[:5]\n",
    "#parameter "
   ]
  },
  {
   "cell_type": "raw",
   "metadata": {},
   "source": [
    "Hyperparametrization does not improve the coherence score. Below we can still see if the produces better topics through human judgement."
   ]
  },
  {
   "cell_type": "code",
   "execution_count": 168,
   "metadata": {},
   "outputs": [
    {
     "name": "stdout",
     "output_type": "stream",
     "text": [
      "Topic: 0 \n",
      "Words: 0.048*\"flamethrow\" + 0.016*\"sell\" + 0.014*\"say\" + 0.012*\"product\" + 0.009*\"hear\" + 0.009*\"amber\" + 0.009*\"compani\" + 0.008*\"parti\" + 0.008*\"stock\" + 0.007*\"goal\"\n",
      "Topic: 1 \n",
      "Words: 0.035*\"launch\" + 0.031*\"falcon\" + 0.029*\"heavi\" + 0.025*\"rocket\" + 0.012*\"mar\" + 0.012*\"say\" + 0.011*\"flamethrow\" + 0.011*\"sell\" + 0.010*\"power\" + 0.009*\"world\"\n",
      "Topic: 2 \n",
      "Words: 0.023*\"bore\" + 0.019*\"compani\" + 0.017*\"sell\" + 0.012*\"launch\" + 0.009*\"product\" + 0.009*\"million\" + 0.009*\"plan\" + 0.008*\"home\" + 0.007*\"like\" + 0.007*\"day\"\n"
     ]
    }
   ],
   "source": [
    "lda_model = gs.GridSearch(bow_corpus, dictionary, dict_conv[5]).nlp_model('lda')\n",
    "for idx, topic in lda_model.print_topics(-1):\n",
    "    print('Topic: {} \\nWords: {}'.format(idx, topic))"
   ]
  },
  {
   "cell_type": "code",
   "execution_count": 169,
   "metadata": {},
   "outputs": [
    {
     "name": "stderr",
     "output_type": "stream",
     "text": [
      "C:\\Users\\daniela.kutleva\\AppData\\Local\\Continuum\\anaconda3\\lib\\site-packages\\pyLDAvis\\_prepare.py:257: FutureWarning: Sorting because non-concatenation axis is not aligned. A future version\n",
      "of pandas will change to not sort by default.\n",
      "\n",
      "To accept the future behavior, pass 'sort=False'.\n",
      "\n",
      "To retain the current behavior and silence the warning, pass 'sort=True'.\n",
      "\n",
      "  return pd.concat([default_term_info] + list(topic_dfs))\n"
     ]
    },
    {
     "data": {
      "text/html": [
       "\n",
       "<link rel=\"stylesheet\" type=\"text/css\" href=\"https://cdn.rawgit.com/bmabey/pyLDAvis/files/ldavis.v1.0.0.css\">\n",
       "\n",
       "\n",
       "<div id=\"ldavis_el2894428808910024569044248222\"></div>\n",
       "<script type=\"text/javascript\">\n",
       "\n",
       "var ldavis_el2894428808910024569044248222_data = {\"mdsDat\": {\"x\": [0.03803555834591637, -0.1390111584304579, 0.1009756000845415], \"y\": [-0.11730518304793726, 0.030765002047947458, 0.08654018099998974], \"topics\": [1, 2, 3], \"cluster\": [1, 1, 1], \"Freq\": [37.360008239746094, 32.45683670043945, 30.183162689208984]}, \"tinfo\": {\"Category\": [\"Default\", \"Default\", \"Default\", \"Default\", \"Default\", \"Default\", \"Default\", \"Default\", \"Default\", \"Default\", \"Default\", \"Default\", \"Default\", \"Default\", \"Default\", \"Default\", \"Default\", \"Default\", \"Default\", \"Default\", \"Default\", \"Default\", \"Default\", \"Default\", \"Default\", \"Default\", \"Default\", \"Default\", \"Default\", \"Default\", \"Topic1\", \"Topic1\", \"Topic1\", \"Topic1\", \"Topic1\", \"Topic1\", \"Topic1\", \"Topic1\", \"Topic1\", \"Topic1\", \"Topic1\", \"Topic1\", \"Topic1\", \"Topic1\", \"Topic1\", \"Topic1\", \"Topic1\", \"Topic1\", \"Topic1\", \"Topic1\", \"Topic1\", \"Topic1\", \"Topic1\", \"Topic1\", \"Topic1\", \"Topic1\", \"Topic1\", \"Topic1\", \"Topic1\", \"Topic1\", \"Topic1\", \"Topic1\", \"Topic1\", \"Topic1\", \"Topic1\", \"Topic1\", \"Topic1\", \"Topic1\", \"Topic1\", \"Topic1\", \"Topic1\", \"Topic1\", \"Topic1\", \"Topic1\", \"Topic1\", \"Topic1\", \"Topic1\", \"Topic1\", \"Topic1\", \"Topic1\", \"Topic1\", \"Topic1\", \"Topic1\", \"Topic1\", \"Topic1\", \"Topic1\", \"Topic1\", \"Topic1\", \"Topic1\", \"Topic1\", \"Topic1\", \"Topic1\", \"Topic1\", \"Topic1\", \"Topic1\", \"Topic1\", \"Topic1\", \"Topic2\", \"Topic2\", \"Topic2\", \"Topic2\", \"Topic2\", \"Topic2\", \"Topic2\", \"Topic2\", \"Topic2\", \"Topic2\", \"Topic2\", \"Topic2\", \"Topic2\", \"Topic2\", \"Topic2\", \"Topic2\", \"Topic2\", \"Topic2\", \"Topic2\", \"Topic2\", \"Topic2\", \"Topic2\", \"Topic2\", \"Topic2\", \"Topic2\", \"Topic2\", \"Topic2\", \"Topic2\", \"Topic2\", \"Topic2\", \"Topic2\", \"Topic2\", \"Topic2\", \"Topic2\", \"Topic2\", \"Topic2\", \"Topic2\", \"Topic2\", \"Topic2\", \"Topic2\", \"Topic2\", \"Topic2\", \"Topic2\", \"Topic2\", \"Topic2\", \"Topic2\", \"Topic2\", \"Topic2\", \"Topic2\", \"Topic2\", \"Topic2\", \"Topic2\", \"Topic2\", \"Topic2\", \"Topic2\", \"Topic2\", \"Topic2\", \"Topic2\", \"Topic2\", \"Topic2\", \"Topic2\", \"Topic2\", \"Topic2\", \"Topic2\", \"Topic3\", \"Topic3\", \"Topic3\", \"Topic3\", \"Topic3\", \"Topic3\", \"Topic3\", \"Topic3\", \"Topic3\", \"Topic3\", \"Topic3\", \"Topic3\", \"Topic3\", \"Topic3\", \"Topic3\", \"Topic3\", \"Topic3\", \"Topic3\", \"Topic3\", \"Topic3\", \"Topic3\", \"Topic3\", \"Topic3\", \"Topic3\", \"Topic3\", \"Topic3\", \"Topic3\", \"Topic3\", \"Topic3\", \"Topic3\", \"Topic3\", \"Topic3\", \"Topic3\", \"Topic3\", \"Topic3\", \"Topic3\", \"Topic3\", \"Topic3\", \"Topic3\", \"Topic3\", \"Topic3\", \"Topic3\", \"Topic3\", \"Topic3\", \"Topic3\", \"Topic3\", \"Topic3\", \"Topic3\", \"Topic3\", \"Topic3\", \"Topic3\", \"Topic3\", \"Topic3\", \"Topic3\", \"Topic3\", \"Topic3\", \"Topic3\", \"Topic3\", \"Topic3\", \"Topic3\", \"Topic3\", \"Topic3\", \"Topic3\", \"Topic3\", \"Topic3\", \"Topic3\", \"Topic3\", \"Topic3\"], \"Freq\": [330.0, 231.0, 220.0, 155.0, 310.0, 196.0, 51.0, 49.0, 75.0, 38.0, 43.0, 44.0, 171.0, 54.0, 28.0, 55.0, 38.0, 27.0, 57.0, 67.0, 28.0, 38.0, 45.0, 70.0, 52.0, 51.0, 22.0, 61.0, 22.0, 44.0, 42.86279296875, 27.994991302490234, 12.634505271911621, 12.44390869140625, 18.70817756652832, 12.327901840209961, 36.11440658569336, 18.626426696777344, 10.829861640930176, 12.802403450012207, 10.764181137084961, 8.76145076751709, 24.3770694732666, 8.023478507995605, 9.865802764892578, 19.675920486450195, 8.091477394104004, 7.445098400115967, 7.544219970703125, 10.38877010345459, 6.180784702301025, 6.1807475090026855, 6.180627822875977, 6.270046710968018, 5.9232177734375, 5.806431293487549, 5.802565097808838, 5.37349271774292, 6.088949203491211, 9.493010520935059, 65.25272369384766, 12.332592010498047, 193.0578155517578, 182.97915649414062, 18.646026611328125, 157.27621459960938, 21.85248374938965, 56.12669372558594, 221.99888610839844, 46.01322937011719, 18.537761688232422, 46.219635009765625, 77.7280502319336, 20.71481704711914, 18.53302764892578, 25.81402015686035, 36.775390625, 40.42381286621094, 36.407047271728516, 42.67028045654297, 39.090511322021484, 23.970632553100586, 21.208599090576172, 76.13774871826172, 36.24312973022461, 54.2760124206543, 35.82600021362305, 28.130874633789062, 66.12342071533203, 36.75764083862305, 66.1604995727539, 28.22258949279785, 36.968448638916016, 27.683170318603516, 32.887962341308594, 26.945270538330078, 28.15190315246582, 50.63237762451172, 48.80820083618164, 27.023784637451172, 21.65898323059082, 22.205354690551758, 13.391243934631348, 12.227520942687988, 10.977527618408203, 22.24253273010254, 14.459244728088379, 9.388656616210938, 9.06091022491455, 8.472572326660156, 11.090791702270508, 7.938101768493652, 8.52103042602539, 7.930073261260986, 7.611594200134277, 8.879110336303711, 7.182275772094727, 7.112640857696533, 7.73811149597168, 7.711133003234863, 6.652781009674072, 6.347175598144531, 5.828775405883789, 6.571953773498535, 5.300668239593506, 5.495973587036133, 5.4940290451049805, 10.783394813537598, 8.940223693847656, 16.660341262817383, 262.9915466308594, 14.945981979370117, 14.780396461486816, 45.231101989746094, 15.917222023010254, 23.36981773376465, 44.20047378540039, 36.375465393066406, 22.48858642578125, 16.34929084777832, 23.139236450195312, 38.65740966796875, 39.49258804321289, 31.581008911132812, 28.25539207458496, 34.497501373291016, 18.866313934326172, 67.55088806152344, 75.6695785522461, 86.54247283935547, 33.14308166503906, 33.463443756103516, 19.644556045532227, 37.894378662109375, 27.907512664794922, 47.716190338134766, 28.05857276916504, 30.341230392456055, 26.32042121887207, 28.05507469177246, 22.463340759277344, 28.0656795501709, 18.649803161621094, 17.620399475097656, 16.92560577392578, 19.29123306274414, 36.62355422973633, 16.686479568481445, 15.473989486694336, 14.831559181213379, 11.205937385559082, 11.737393379211426, 10.377396583557129, 9.944315910339355, 9.837555885314941, 9.84558391571045, 9.728214263916016, 9.142705917358398, 7.938473701477051, 6.720404148101807, 8.360681533813477, 6.022063732147217, 6.114596366882324, 13.94147777557373, 6.592183589935303, 13.334450721740723, 5.2825608253479, 5.447699546813965, 5.443762302398682, 7.059189796447754, 5.424792289733887, 9.283368110656738, 38.71030044555664, 11.118340492248535, 8.598093032836914, 118.79058074951172, 8.953755378723145, 29.06913185119629, 24.51584815979004, 13.916448593139648, 14.751230239868164, 36.742122650146484, 95.5119857788086, 25.035844802856445, 13.859471321105957, 44.09795379638672, 18.760953903198242, 17.517807006835938, 17.934528350830078, 36.515010833740234, 32.6977653503418, 30.712608337402344, 84.97639465332031, 34.86431121826172, 28.442405700683594, 44.08962631225586, 46.12645721435547, 21.530750274658203, 22.573755264282227, 60.74031448364258, 25.12611961364746, 28.318735122680664, 20.679738998413086, 24.60783576965332, 24.24706268310547, 26.688703536987305, 24.736530303955078, 20.059288024902344, 19.40871238708496], \"Term\": [\"flamethrow\", \"falcon\", \"heavi\", \"bore\", \"launch\", \"rocket\", \"hear\", \"amber\", \"power\", \"day\", \"worth\", \"home\", \"compani\", \"parti\", \"announc\", \"stock\", \"station\", \"california\", \"goal\", \"earth\", \"meet\", \"tunnel\", \"packag\", \"world\", \"like\", \"sale\", \"10,000\", \"nasdaq\", \"silicon\", \"time\", \"worth\", \"meet\", \"upbeat\", \"cost\", \"wozniak\", \"compar\", \"station\", \"hour\", \"roundup\", \"pois\", \"lesson\", \"sink\", \"salari\", \"overshoot\", \"tomorrow\", \"virtual\", \"startup\", \"protect\", \"pass\", \"booster\", \"twtr\", \"goog\", \"feel\", \"late\", \"uneven\", \"nasa\", \"nevada\", \"aapl\", \"achiev\", \"excus\", \"power\", \"februari\", \"falcon\", \"heavi\", \"founder\", \"rocket\", \"help\", \"world\", \"launch\", \"build\", \"asteroid\", \"test\", \"mar\", \"problem\", \"belt\", \"charg\", \"send\", \"truck\", \"orbit\", \"earth\", \"semi\", \"analyst\", \"plant\", \"say\", \"car\", \"plan\", \"watch\", \"drive\", \"sell\", \"electr\", \"flamethrow\", \"tech\", \"delay\", \"group\", \"product\", \"news\", \"compani\", \"hear\", \"amber\", \"california\", \"silicon\", \"10,000\", \"cash\", \"coast\", \"fail\", \"short\", \"roof\", \"overal\", \"rang\", \"pick\", \"reportedli\", \"ford\", \"mark\", \"singl\", \"burn\", \"zero\", \"oppos\", \"welcom\", \"worker\", \"benefit\", \"list\", \"realiti\", \"threaten\", \"abl\", \"fear\", \"lock\", \"weapon\", \"india\", \"split\", \"rise\", \"flamethrow\", \"lose\", \"date\", \"parti\", \"ambiti\", \"award\", \"stock\", \"packag\", \"valley\", \"firm\", \"think\", \"sale\", \"goal\", \"time\", \"compens\", \"billion\", \"huge\", \"product\", \"say\", \"sell\", \"go\", \"trump\", \"spot\", \"delay\", \"year\", \"compani\", \"china\", \"target\", \"report\", \"launch\", \"plan\", \"announc\", \"depot\", \"bezo\", \"jeff\", \"public\", \"day\", \"issu\", \"mileston\", \"buffalo\", \"fourth\", \"output\", \"upgrad\", \"hide\", \"supercar\", \"nikola\", \"fund\", \"propos\", \"read\", \"investig\", \"draw\", \"bold\", \"slashdot\", \"lead\", \"job\", \"store\", \"kiosk\", \"2020\", \"game\", \"anymor\", \"geniu\", \"control\", \"home\", \"line\", \"school\", \"bore\", \"imag\", \"tunnel\", \"australia\", \"driver\", \"showroom\", \"like\", \"compani\", \"reveal\", \"south\", \"million\", \"review\", \"quarter\", \"work\", \"nasdaq\", \"batteri\", \"solar\", \"sell\", \"target\", \"video\", \"plan\", \"product\", \"deal\", \"come\", \"launch\", \"share\", \"electr\", \"success\", \"earth\", \"delay\", \"say\", \"rocket\", \"group\", \"heavi\"], \"Total\": [330.0, 231.0, 220.0, 155.0, 310.0, 196.0, 51.0, 49.0, 75.0, 38.0, 43.0, 44.0, 171.0, 54.0, 28.0, 55.0, 38.0, 27.0, 57.0, 67.0, 28.0, 38.0, 45.0, 70.0, 52.0, 51.0, 22.0, 61.0, 22.0, 44.0, 43.720237731933594, 28.812875747680664, 13.228687286376953, 13.081406593322754, 19.667686462402344, 12.972579956054688, 38.061981201171875, 19.63107681274414, 11.459137916564941, 13.549297332763672, 11.45665454864502, 9.356179237365723, 26.07843017578125, 8.61977481842041, 10.639899253845215, 21.232389450073242, 8.759298324584961, 8.06229305267334, 8.173807144165039, 11.377599716186523, 6.774877548217773, 6.774867534637451, 6.774794578552246, 6.886202335357666, 6.518022060394287, 6.407228469848633, 6.407332897186279, 5.968753814697266, 6.769522190093994, 10.580805778503418, 75.45294952392578, 13.826321601867676, 231.81581115722656, 220.24066162109375, 21.098093032836914, 196.30474853515625, 25.4663143157959, 70.21446228027344, 310.7942810058594, 58.55078887939453, 21.8801326751709, 61.11128616333008, 113.2497787475586, 25.26263427734375, 22.505144119262695, 33.76909255981445, 51.91590881347656, 58.313026428222656, 54.65581512451172, 67.5672607421875, 60.40998077392578, 32.59114456176758, 27.694732666015625, 178.49603271484375, 64.1048812866211, 120.8289794921875, 63.61712646484375, 44.88243865966797, 237.6422882080078, 84.97219848632812, 330.3419189453125, 50.01780700683594, 99.1098861694336, 49.2863655090332, 146.5653076171875, 57.297279357910156, 171.3800811767578, 51.342994689941406, 49.55942153930664, 27.696821212768555, 22.34176254272461, 22.97941780090332, 14.02118968963623, 12.865974426269531, 11.610630989074707, 23.664039611816406, 15.42817211151123, 10.018781661987305, 9.730729103088379, 9.10000991821289, 11.95448112487793, 8.572443962097168, 9.2034273147583, 8.573317527770996, 8.241508483886719, 9.636276245117188, 7.811135292053223, 7.74196195602417, 8.479567527770996, 8.480831146240234, 7.318480014801025, 6.986968040466309, 6.458179950714111, 7.324909687042236, 5.929704189300537, 6.16328763961792, 6.163398742675781, 12.112394332885742, 10.055608749389648, 18.98777961730957, 330.3419189453125, 17.1158504486084, 16.919946670532227, 54.6685905456543, 18.51080894470215, 27.911834716796875, 55.54987335205078, 45.13313674926758, 26.818679809570312, 19.15192413330078, 28.752531051635742, 51.77507781982422, 57.920467376708984, 44.245269775390625, 41.497467041015625, 56.30335998535156, 25.567317962646484, 146.5653076171875, 178.49603271484375, 237.6422882080078, 60.482948303222656, 69.99885559082031, 27.659780502319336, 99.1098861694336, 56.82183074951172, 171.3800811767578, 58.81024932861328, 71.72050476074219, 54.59925079345703, 310.7942810058594, 120.8289794921875, 28.932479858398438, 19.28754997253418, 18.249574661254883, 17.56260108947754, 20.077409744262695, 38.165287017822266, 17.439170837402344, 16.186758041381836, 15.597039222717285, 11.819201469421387, 12.390931129455566, 10.987285614013672, 10.555170059204102, 10.444355010986328, 10.545623779296875, 10.439807891845703, 9.868046760559082, 8.599258422851562, 7.34007453918457, 9.167683601379395, 6.65227746963501, 6.760219573974609, 15.485635757446289, 7.331663608551025, 14.83759880065918, 5.884873390197754, 6.073038101196289, 6.072592735290527, 7.895756721496582, 6.073697566986084, 10.394391059875488, 44.4328727722168, 12.630380630493164, 9.811193466186523, 155.86695861816406, 10.316372871398926, 38.62727355957031, 31.93773078918457, 16.977102279663086, 18.146535873413086, 52.395381927490234, 171.3800811767578, 35.314125061035156, 17.037900924682617, 71.78588104248047, 25.04547691345215, 22.961910247802734, 23.75409507751465, 61.36770248413086, 55.20376968383789, 53.65184020996094, 237.6422882080078, 71.72050476074219, 55.193016052246094, 120.8289794921875, 146.5653076171875, 37.16425323486328, 41.001094818115234, 310.7942810058594, 56.155479431152344, 84.97219848632812, 37.324501037597656, 67.5672607421875, 99.1098861694336, 178.49603271484375, 196.30474853515625, 49.2863655090332, 220.24066162109375], \"loglift\": [30.0, 29.0, 28.0, 27.0, 26.0, 25.0, 24.0, 23.0, 22.0, 21.0, 20.0, 19.0, 18.0, 17.0, 16.0, 15.0, 14.0, 13.0, 12.0, 11.0, 10.0, 9.0, 8.0, 7.0, 6.0, 5.0, 4.0, 3.0, 2.0, 1.0, 0.9648000001907349, 0.9557999968528748, 0.9386000037193298, 0.9345999956130981, 0.9345999956130981, 0.9336000084877014, 0.9319999814033508, 0.9319999814033508, 0.9280999898910522, 0.9279000163078308, 0.9222000241279602, 0.9189000129699707, 0.9171000123023987, 0.9128999710083008, 0.9089999794960022, 0.9083999991416931, 0.9053000211715698, 0.9049000144004822, 0.9043999910354614, 0.8935999870300293, 0.892799973487854, 0.892799973487854, 0.892799973487854, 0.8907999992370605, 0.8888999819755554, 0.8860999941825867, 0.8853999972343445, 0.8794999718666077, 0.878600001335144, 0.8761000037193298, 0.8392999768257141, 0.870199978351593, 0.8015999794006348, 0.7991999983787537, 0.8610000014305115, 0.7628999948501587, 0.8314999938011169, 0.7605999708175659, 0.6481000185012817, 0.7436000108718872, 0.8187999725341797, 0.705299973487854, 0.6082000136375427, 0.7860999703407288, 0.7904000282287598, 0.7159000039100647, 0.6398000121116638, 0.6182000041007996, 0.5782999992370605, 0.5249000191688538, 0.5493000149726868, 0.6773999929428101, 0.7177000045776367, 0.13249999284744263, 0.41429999470710754, 0.1843000054359436, 0.41040000319480896, 0.5174000263214111, -0.2946999967098236, 0.14659999310970306, -0.6234999895095825, 0.4122999906539917, -0.0015999999595806003, 0.4077000021934509, -0.5098000168800354, 0.23010000586509705, -0.8216999769210815, 1.111299991607666, 1.1100000143051147, 1.1007000207901, 1.0942000150680542, 1.090999960899353, 1.079300045967102, 1.0743999481201172, 1.069200038909912, 1.0633000135421753, 1.0604000091552734, 1.0602999925613403, 1.0539000034332275, 1.0537999868392944, 1.0503000020980835, 1.0484000444412231, 1.048200011253357, 1.0472999811172485, 1.045699954032898, 1.0434000492095947, 1.0413000583648682, 1.0405000448226929, 1.0338000059127808, 1.0300999879837036, 1.0298999547958374, 1.0291999578475952, 1.0226999521255493, 1.016800045967102, 1.013100028038025, 1.010699987411499, 1.0103000402450562, 1.0089999437332153, 1.007699966430664, 0.9944999814033508, 0.8973000049591064, 0.9897000193595886, 0.9901000261306763, 0.9358000159263611, 0.9743000268936157, 0.947700023651123, 0.8967000246047974, 0.909500002861023, 0.9491999745368958, 0.9670000076293945, 0.9081000089645386, 0.8331000208854675, 0.7422999739646912, 0.788100004196167, 0.7408999800682068, 0.6353999972343445, 0.8213000297546387, 0.3506999909877777, 0.2671000063419342, 0.11509999632835388, 0.5236999988555908, 0.3871999979019165, 0.7831000089645386, 0.16380000114440918, 0.4142000079154968, -0.1534000039100647, 0.38519999384880066, 0.26499998569488525, 0.39559999108314514, -1.2797000408172607, -0.557200014591217, 1.1675000190734863, 1.1642999649047852, 1.1627999544143677, 1.1608999967575073, 1.1578999757766724, 1.1567000150680542, 1.1538000106811523, 1.152899980545044, 1.1476000547409058, 1.1446000337600708, 1.1437000036239624, 1.1407999992370605, 1.1382999420166016, 1.1380000114440918, 1.1291999816894531, 1.1273000240325928, 1.121500015258789, 1.117900013923645, 1.1096999645233154, 1.1057000160217285, 1.0983999967575073, 1.097499966621399, 1.0928000211715698, 1.091599941253662, 1.0910999774932861, 1.089900016784668, 1.0892000198364258, 1.0886000394821167, 1.0858999490737915, 1.0849000215530396, 1.0848000049591064, 1.059999942779541, 1.0703999996185303, 1.0658999681472778, 0.9261999726295471, 1.0562000274658203, 0.9136000275611877, 0.9333999752998352, 0.9991000294685364, 0.9907000064849854, 0.8429999947547913, 0.6133000254631042, 0.8539000153541565, 0.9914000034332275, 0.7106000185012817, 0.9089999794960022, 0.927299976348877, 0.9168999791145325, 0.6786999702453613, 0.6741999983787537, 0.6399999856948853, 0.16949999332427979, 0.4765999913215637, 0.5349000096321106, 0.18970000743865967, 0.04179999977350235, 0.6520000100135803, 0.6011000275611877, -0.43459999561309814, 0.3937000036239624, 0.09910000115633011, 0.6074000000953674, 0.18780000507831573, -0.20999999344348907, -0.7024000287055969, -0.8734999895095825, 0.2989000082015991, -1.2310999631881714], \"logprob\": [30.0, 29.0, 28.0, 27.0, 26.0, 25.0, 24.0, 23.0, 22.0, 21.0, 20.0, 19.0, 18.0, 17.0, 16.0, 15.0, 14.0, 13.0, 12.0, 11.0, 10.0, 9.0, 8.0, 7.0, 6.0, 5.0, 4.0, 3.0, 2.0, 1.0, -4.986999988555908, -5.413000106811523, -6.208600044250488, -6.223800182342529, -5.815999984741211, -6.233099937438965, -5.158299922943115, -5.820400238037109, -6.36269998550415, -6.195300102233887, -6.368800163269043, -6.5746002197265625, -5.551300048828125, -6.662600040435791, -6.455900192260742, -5.765600204467773, -6.654200077056885, -6.737400054931641, -6.7241997718811035, -6.404300212860107, -6.923500061035156, -6.923500061035156, -6.923600196838379, -6.909200191497803, -6.966100215911865, -6.986000061035156, -6.986700057983398, -7.063499927520752, -6.938499927520752, -6.4944000244140625, -4.566699981689453, -6.232699871063232, -3.4820001125335693, -3.535599946975708, -5.819300174713135, -3.687000036239624, -5.660699844360352, -4.717400074005127, -3.3422999382019043, -4.916100025177002, -5.825200080871582, -4.911600112915039, -4.3917999267578125, -5.714099884033203, -5.825399875640869, -5.494100093841553, -5.140200138092041, -5.045599937438965, -5.150199890136719, -4.991499900817871, -5.079100131988525, -5.56820011138916, -5.6905999183654785, -4.412399768829346, -5.154699802398682, -4.750899791717529, -5.166299819946289, -5.408100128173828, -4.553500175476074, -5.140600204467773, -4.5528998374938965, -5.404900074005127, -5.134900093078613, -5.424200057983398, -5.2519001960754395, -5.451200008392334, -5.407400131225586, -4.679699897766113, -4.716400146484375, -5.307600021362305, -5.528900146484375, -5.504000186920166, -6.009699821472168, -6.100599765777588, -6.208399772644043, -5.502299785614014, -5.933000087738037, -6.364799976348877, -6.400300025939941, -6.46750020980835, -6.198200225830078, -6.532599925994873, -6.4618000984191895, -6.533599853515625, -6.5746002197265625, -6.420599937438965, -6.632699966430664, -6.642399787902832, -6.55810022354126, -6.561600208282471, -6.7093000411987305, -6.75629997253418, -6.8414998054504395, -6.721499919891357, -6.936500072479248, -6.900300025939941, -6.900599956512451, -6.22629976272583, -6.413700103759766, -5.791299819946289, -3.0322000980377197, -5.899799823760986, -5.910999774932861, -4.792500019073486, -5.836900234222412, -5.4527997970581055, -4.8155999183654785, -5.01039981842041, -5.491300106048584, -5.810100078582764, -5.462800025939941, -4.9496002197265625, -4.928199768066406, -5.151700019836426, -5.263000011444092, -5.063399791717529, -5.666900157928467, -4.39139986038208, -4.277900218963623, -4.143700122833252, -5.103499889373779, -5.093800067901611, -5.626500129699707, -4.9695000648498535, -5.275400161743164, -4.738999843597412, -5.269999980926514, -5.191800117492676, -5.333899974822998, -5.270100116729736, -5.492400169372559, -5.1971001625061035, -5.605800151824951, -5.662600040435791, -5.7027997970581055, -5.572000026702881, -4.931000232696533, -5.717100143432617, -5.792500019073486, -5.83489990234375, -6.115200042724609, -6.068900108337402, -6.191999912261963, -6.2347002029418945, -6.245500087738037, -6.24459981918335, -6.2565999031066895, -6.318699836730957, -6.45989990234375, -6.626500129699707, -6.408100128173828, -6.736199855804443, -6.7210001945495605, -5.8968000411987305, -6.6458001136779785, -5.941299915313721, -6.867300033569336, -6.83650016784668, -6.837200164794922, -6.577300071716309, -6.840700149536133, -6.303400039672852, -4.8755998611450195, -6.1230998039245605, -6.380099773406982, -3.754300117492676, -6.339600086212158, -5.1620001792907715, -5.332300186157227, -5.898600101470947, -5.8403000831604, -4.927700042724609, -3.972399950027466, -5.311399936676025, -5.902699947357178, -4.745299816131592, -5.599899768829346, -5.668399810791016, -5.644899845123291, -4.933899879455566, -5.044400215148926, -5.10699987411499, -4.089300155639648, -4.980199813842773, -5.183800220489502, -4.7453999519348145, -4.700300216674805, -5.462200164794922, -5.414899826049805, -4.425099849700928, -5.307799816131592, -5.1880998611450195, -5.502500057220459, -5.32859992980957, -5.343400001525879, -5.247399806976318, -5.323400020599365, -5.5329999923706055, -5.565899848937988]}, \"token.table\": {\"Topic\": [2, 3, 1, 2, 1, 2, 2, 3, 1, 2, 3, 3, 3, 1, 3, 1, 3, 1, 2, 3, 1, 2, 3, 1, 2, 3, 2, 3, 1, 2, 3, 3, 1, 2, 1, 2, 3, 3, 1, 2, 3, 2, 2, 1, 2, 3, 2, 1, 2, 3, 1, 2, 3, 2, 1, 2, 3, 1, 2, 3, 1, 1, 2, 2, 3, 1, 1, 2, 1, 2, 3, 1, 2, 3, 1, 2, 3, 3, 3, 1, 2, 3, 2, 3, 1, 3, 1, 2, 3, 1, 2, 2, 1, 2, 3, 2, 1, 2, 1, 1, 2, 3, 1, 2, 3, 2, 1, 2, 3, 3, 3, 3, 1, 2, 3, 1, 2, 1, 1, 2, 3, 2, 1, 2, 3, 1, 2, 3, 3, 1, 3, 1, 2, 1, 2, 3, 1, 3, 1, 2, 3, 3, 3, 3, 3, 1, 1, 2, 3, 1, 3, 1, 1, 2, 3, 1, 3, 2, 2, 1, 2, 3, 1, 2, 3, 2, 1, 3, 1, 2, 3, 1, 1, 2, 3, 1, 1, 2, 3, 3, 2, 1, 2, 3, 3, 2, 1, 1, 2, 3, 1, 2, 1, 2, 1, 2, 3, 1, 2, 3, 1, 1, 3, 1, 2, 3, 1, 2, 3, 3, 1, 3, 2, 3, 2, 3, 2, 1, 2, 3, 2, 3, 1, 2, 3, 1, 2, 3, 2, 3, 1, 2, 3, 2, 3, 1, 1, 3, 1, 2, 3, 1, 2, 3, 2, 3, 1, 2, 3, 1, 2, 3, 1, 2, 3, 1, 2, 3, 2, 3, 1, 2, 3, 2, 2, 1, 3, 1, 2, 3, 1, 3, 2, 3, 1, 2, 3, 1, 1, 3, 1, 2, 3, 2, 3, 1, 2, 3, 3, 1, 2, 3, 1, 2, 3, 1, 2, 3, 1, 2, 3, 2, 1, 2, 1, 1, 2, 3, 1, 2, 3, 1, 3, 1, 1, 1, 3, 1, 2, 1, 2, 3, 1, 2, 3, 1, 2, 3, 2, 2, 1, 2, 3, 2, 1, 2, 3, 1, 1, 3, 1, 2, 3, 2], \"Freq\": [0.9573784470558167, 0.8233111500740051, 0.8376957774162292, 0.9556431770324707, 0.886325478553772, 0.9887121319770813, 0.8643598556518555, 0.10804498195648193, 0.7363963723182678, 0.06136636435985565, 0.21478226780891418, 0.9677704572677612, 0.8865521550178528, 0.8683676719665527, 0.13711068034172058, 0.2191765010356903, 0.7827731966972351, 0.10748129338026047, 0.8240232467651367, 0.07165419310331345, 0.16303233802318573, 0.23549117147922516, 0.597785234451294, 0.8442514538764954, 0.044434286653995514, 0.13330285251140594, 0.9433037638664246, 0.9863243699073792, 0.3552185893058777, 0.6038715839385986, 0.03552185744047165, 0.9019467234611511, 0.8789200186729431, 0.08789200335741043, 0.15397746860980988, 0.08340446650981903, 0.7634716033935547, 0.9617210030555725, 0.785642683506012, 0.0683167576789856, 0.1366335153579712, 0.9706960916519165, 0.9748411178588867, 0.561579704284668, 0.2027926743030548, 0.23399154841899872, 0.9271681308746338, 0.7699348330497742, 0.14806438982486725, 0.08883862942457199, 0.25505757331848145, 0.47610747814178467, 0.27206140756607056, 0.9326926469802856, 0.17072714865207672, 0.26828551292419434, 0.5609606504440308, 0.16337954998016357, 0.2800792157649994, 0.5601584315299988, 0.9250280261039734, 0.3132721185684204, 0.6747399568557739, 0.09620573371648788, 0.8658515810966492, 0.9173325300216675, 0.11820368468761444, 0.8865275979042053, 0.026201820001006126, 0.026201820001006126, 0.9694673418998718, 0.2152606099843979, 0.188353031873703, 0.5919666886329651, 0.373322993516922, 0.38341280817985535, 0.24215546250343323, 0.9850914478302002, 0.8726304769515991, 0.623852014541626, 0.26736515760421753, 0.11140214651823044, 0.17670860886573792, 0.824640154838562, 0.6364029049873352, 0.3700016736984253, 0.43543654680252075, 0.23537109792232513, 0.3295195400714874, 0.8505968451499939, 0.0945107638835907, 0.947407603263855, 0.8325575590133667, 0.08627539128065109, 0.0776478499174118, 0.843212366104126, 0.8679097890853882, 0.07232581824064255, 0.8856357336044312, 0.10442814975976944, 0.8354251980781555, 0.05221407487988472, 0.1997929960489273, 0.7961447834968567, 0.003027166472747922, 0.933222770690918, 0.9005553126335144, 0.09479529410600662, 0.9306889176368713, 0.9578720331192017, 0.8233715295791626, 0.823221743106842, 0.2810709476470947, 0.5456083416938782, 0.16533584892749786, 0.3107709586620331, 0.6733371019363403, 0.8856261968612671, 0.5681084394454956, 0.0405791737139225, 0.4057917296886444, 0.993319571018219, 0.830909252166748, 0.08172877877950668, 0.08626926690340042, 0.863886296749115, 0.039267558604478836, 0.1178026795387268, 0.9474030137062073, 0.11252930015325546, 0.8777285218238831, 0.9678531885147095, 0.050939641892910004, 0.19556216895580292, 0.7431362271308899, 0.039112433791160583, 0.0969332903623581, 0.872399628162384, 0.08256006240844727, 0.9081606864929199, 0.9536687731742859, 0.9748169779777527, 0.9679659605026245, 0.9547628164291382, 0.8496359586715698, 0.8713075518608093, 0.7142988443374634, 0.0900917500257492, 0.19627131521701813, 0.06457597017288208, 0.9040636420249939, 0.9601406455039978, 0.22902782261371613, 0.05725695565342903, 0.7061691284179688, 0.07917417585849762, 0.870915949344635, 0.9564827680587769, 0.8112553358078003, 0.11685074865818024, 0.8763806223869324, 0.05842537432909012, 0.6887430548667908, 0.1412806361913681, 0.16777074337005615, 0.9778965711593628, 0.9717877507209778, 0.9266834259033203, 0.20895473659038544, 0.18109411001205444, 0.612933874130249, 0.9364423155784607, 0.3747899830341339, 0.032590433955192566, 0.6029230356216431, 0.9364270567893982, 0.4712265729904175, 0.20943403244018555, 0.33160388469696045, 0.9482606649398804, 0.8961565494537354, 0.6586673259735107, 0.0731852576136589, 0.25614839792251587, 0.9684502482414246, 0.8983128070831299, 0.9280984997749329, 0.0886266753077507, 0.7976400852203369, 0.11078334599733353, 0.16462835669517517, 0.8231417536735535, 0.9787361025810242, 0.8791199326515198, 0.44691264629364014, 0.18207553029060364, 0.3641510605812073, 0.7582669258117676, 0.07221589982509613, 0.14443179965019226, 0.9594593644142151, 0.8614640235900879, 0.13253292441368103, 0.831267237663269, 0.11875246465206146, 0.03958415240049362, 0.22515560686588287, 0.4639570116996765, 0.31385326385498047, 0.9120345711708069, 0.8682393431663513, 0.9463372230529785, 0.21775192022323608, 0.783906877040863, 0.924905002117157, 0.9303127527236938, 0.8587415814399719, 0.31135958433151245, 0.4761970043182373, 0.20146796107292175, 0.9201570153236389, 0.08365064114332199, 0.056634560227394104, 0.22653824090957642, 0.7079319953918457, 0.19963684678077698, 0.07985474169254303, 0.758620023727417, 0.8953126668930054, 0.10533090680837631, 0.7997769117355347, 0.07131768018007278, 0.1273530125617981, 0.90743088722229, 0.06481648981571198, 0.9599325656890869, 0.9203007817268372, 0.03834586590528488, 0.05794293433427811, 0.7532581686973572, 0.1931431144475937, 0.4257797598838806, 0.4257797598838806, 0.15126386284828186, 0.10192439705133438, 0.9173195958137512, 0.2777283489704132, 0.36609646677970886, 0.35768043994903564, 0.6455886960029602, 0.3310711085796356, 0.01655355654656887, 0.7126910090446472, 0.250404953956604, 0.0385238379240036, 0.3739617168903351, 0.17807701230049133, 0.44519251585006714, 0.9296806454658508, 0.042258210480213165, 0.16532081365585327, 0.055106937885284424, 0.8266040682792664, 0.9847029447555542, 0.9331277012825012, 0.9619311094284058, 0.887545108795166, 0.05591606721282005, 0.37277379631996155, 0.577799379825592, 0.17607802152633667, 0.821697473526001, 0.8950228691101074, 0.09944698959589005, 0.2530750334262848, 0.7230715155601501, 0.03615357726812363, 0.9133151769638062, 0.9458256959915161, 0.05254587158560753, 0.16201657056808472, 0.7920809984207153, 0.05400552228093147, 0.06739635020494461, 0.8761525750160217, 0.3215046226978302, 0.10716821253299713, 0.5626330971717834, 0.9574549794197083, 0.09760110080242157, 0.4182904064655304, 0.48800548911094666, 0.5598006248474121, 0.25990742444992065, 0.17993591725826263, 0.7527251243591309, 0.09818153828382492, 0.14727230370044708, 0.06955909729003906, 0.7999295592308044, 0.104338638484478, 0.929054319858551, 0.27121543884277344, 0.7232411503791809, 0.9398584961891174, 0.6859530806541443, 0.06859530508518219, 0.24008357524871826, 0.30000489950180054, 0.4714362919330597, 0.21428921818733215, 0.23299598693847656, 0.7507648468017578, 0.885624885559082, 0.9205246567726135, 0.9827128052711487, 0.9101428985595703, 0.14914977550506592, 0.8203237652778625, 0.326128214597702, 0.163064107298851, 0.5073105692863464, 0.9419571161270142, 0.04709785431623459, 0.04709785431623459, 0.5658853650093079, 0.2515046000480652, 0.1886284500360489, 0.8112407326698303, 0.9041635990142822, 0.16839201748371124, 0.08419600874185562, 0.7577641010284424, 0.9434443116188049, 0.797556459903717, 0.09969455748796463, 0.09969455748796463, 0.9835262298583984, 0.9660515785217285, 0.05084482207894325, 0.33437854051589966, 0.4927683472633362, 0.17598870396614075, 0.9339707493782043], \"Term\": [\"10,000\", \"2020\", \"aapl\", \"abl\", \"achiev\", \"amber\", \"ambiti\", \"ambiti\", \"analyst\", \"analyst\", \"analyst\", \"announc\", \"anymor\", \"asteroid\", \"asteroid\", \"australia\", \"australia\", \"award\", \"award\", \"award\", \"batteri\", \"batteri\", \"batteri\", \"belt\", \"belt\", \"belt\", \"benefit\", \"bezo\", \"billion\", \"billion\", \"billion\", \"bold\", \"booster\", \"booster\", \"bore\", \"bore\", \"bore\", \"buffalo\", \"build\", \"build\", \"build\", \"burn\", \"california\", \"car\", \"car\", \"car\", \"cash\", \"charg\", \"charg\", \"charg\", \"china\", \"china\", \"china\", \"coast\", \"come\", \"come\", \"come\", \"compani\", \"compani\", \"compani\", \"compar\", \"compens\", \"compens\", \"control\", \"control\", \"cost\", \"date\", \"date\", \"day\", \"day\", \"day\", \"deal\", \"deal\", \"deal\", \"delay\", \"delay\", \"delay\", \"depot\", \"draw\", \"drive\", \"drive\", \"drive\", \"driver\", \"driver\", \"earth\", \"earth\", \"electr\", \"electr\", \"electr\", \"excus\", \"excus\", \"fail\", \"falcon\", \"falcon\", \"falcon\", \"fear\", \"februari\", \"februari\", \"feel\", \"firm\", \"firm\", \"firm\", \"flamethrow\", \"flamethrow\", \"flamethrow\", \"ford\", \"founder\", \"founder\", \"fourth\", \"fund\", \"game\", \"geniu\", \"go\", \"go\", \"go\", \"goal\", \"goal\", \"goog\", \"group\", \"group\", \"group\", \"hear\", \"heavi\", \"heavi\", \"heavi\", \"help\", \"help\", \"help\", \"hide\", \"home\", \"home\", \"hour\", \"hour\", \"huge\", \"huge\", \"huge\", \"imag\", \"imag\", \"india\", \"india\", \"investig\", \"issu\", \"jeff\", \"job\", \"kiosk\", \"late\", \"launch\", \"launch\", \"launch\", \"lead\", \"lead\", \"lesson\", \"like\", \"like\", \"like\", \"line\", \"line\", \"list\", \"lock\", \"lose\", \"lose\", \"lose\", \"mar\", \"mar\", \"mar\", \"mark\", \"meet\", \"mileston\", \"million\", \"million\", \"million\", \"nasa\", \"nasdaq\", \"nasdaq\", \"nasdaq\", \"nevada\", \"news\", \"news\", \"news\", \"nikola\", \"oppos\", \"orbit\", \"orbit\", \"orbit\", \"output\", \"overal\", \"overshoot\", \"packag\", \"packag\", \"packag\", \"parti\", \"parti\", \"pass\", \"pick\", \"plan\", \"plan\", \"plan\", \"plant\", \"plant\", \"plant\", \"pois\", \"power\", \"power\", \"problem\", \"problem\", \"problem\", \"product\", \"product\", \"product\", \"propos\", \"protect\", \"public\", \"quarter\", \"quarter\", \"rang\", \"read\", \"realiti\", \"report\", \"report\", \"report\", \"reportedli\", \"reportedli\", \"reveal\", \"reveal\", \"reveal\", \"review\", \"review\", \"review\", \"rise\", \"rise\", \"rocket\", \"rocket\", \"rocket\", \"roof\", \"roof\", \"roundup\", \"salari\", \"salari\", \"sale\", \"sale\", \"sale\", \"say\", \"say\", \"say\", \"school\", \"school\", \"sell\", \"sell\", \"sell\", \"semi\", \"semi\", \"semi\", \"send\", \"send\", \"send\", \"share\", \"share\", \"share\", \"short\", \"short\", \"showroom\", \"showroom\", \"showroom\", \"silicon\", \"singl\", \"sink\", \"slashdot\", \"solar\", \"solar\", \"solar\", \"south\", \"south\", \"split\", \"split\", \"spot\", \"spot\", \"spot\", \"startup\", \"station\", \"station\", \"stock\", \"stock\", \"stock\", \"store\", \"store\", \"success\", \"success\", \"success\", \"supercar\", \"target\", \"target\", \"target\", \"tech\", \"tech\", \"tech\", \"test\", \"test\", \"test\", \"think\", \"think\", \"think\", \"threaten\", \"time\", \"time\", \"tomorrow\", \"truck\", \"truck\", \"truck\", \"trump\", \"trump\", \"trump\", \"tunnel\", \"tunnel\", \"twtr\", \"uneven\", \"upbeat\", \"upgrad\", \"valley\", \"valley\", \"video\", \"video\", \"video\", \"virtual\", \"virtual\", \"virtual\", \"watch\", \"watch\", \"watch\", \"weapon\", \"welcom\", \"work\", \"work\", \"work\", \"worker\", \"world\", \"world\", \"world\", \"worth\", \"wozniak\", \"wozniak\", \"year\", \"year\", \"year\", \"zero\"]}, \"R\": 30, \"lambda.step\": 0.01, \"plot.opts\": {\"xlab\": \"PC1\", \"ylab\": \"PC2\"}, \"topic.order\": [2, 1, 3]};\n",
       "\n",
       "function LDAvis_load_lib(url, callback){\n",
       "  var s = document.createElement('script');\n",
       "  s.src = url;\n",
       "  s.async = true;\n",
       "  s.onreadystatechange = s.onload = callback;\n",
       "  s.onerror = function(){console.warn(\"failed to load library \" + url);};\n",
       "  document.getElementsByTagName(\"head\")[0].appendChild(s);\n",
       "}\n",
       "\n",
       "if(typeof(LDAvis) !== \"undefined\"){\n",
       "   // already loaded: just create the visualization\n",
       "   !function(LDAvis){\n",
       "       new LDAvis(\"#\" + \"ldavis_el2894428808910024569044248222\", ldavis_el2894428808910024569044248222_data);\n",
       "   }(LDAvis);\n",
       "}else if(typeof define === \"function\" && define.amd){\n",
       "   // require.js is available: use it to load d3/LDAvis\n",
       "   require.config({paths: {d3: \"https://cdnjs.cloudflare.com/ajax/libs/d3/3.5.5/d3.min\"}});\n",
       "   require([\"d3\"], function(d3){\n",
       "      window.d3 = d3;\n",
       "      LDAvis_load_lib(\"https://cdn.rawgit.com/bmabey/pyLDAvis/files/ldavis.v1.0.0.js\", function(){\n",
       "        new LDAvis(\"#\" + \"ldavis_el2894428808910024569044248222\", ldavis_el2894428808910024569044248222_data);\n",
       "      });\n",
       "    });\n",
       "}else{\n",
       "    // require.js not available: dynamically load d3 & LDAvis\n",
       "    LDAvis_load_lib(\"https://cdnjs.cloudflare.com/ajax/libs/d3/3.5.5/d3.min.js\", function(){\n",
       "         LDAvis_load_lib(\"https://cdn.rawgit.com/bmabey/pyLDAvis/files/ldavis.v1.0.0.js\", function(){\n",
       "                 new LDAvis(\"#\" + \"ldavis_el2894428808910024569044248222\", ldavis_el2894428808910024569044248222_data);\n",
       "            })\n",
       "         });\n",
       "}\n",
       "</script>"
      ],
      "text/plain": [
       "PreparedData(topic_coordinates=              x         y  topics  cluster       Freq\n",
       "topic                                                \n",
       "1      0.038036 -0.117305       1        1  37.360008\n",
       "0     -0.139011  0.030765       2        1  32.456837\n",
       "2      0.100976  0.086540       3        1  30.183163, topic_info=     Category        Freq        Term       Total  loglift  logprob\n",
       "1025  Default  330.000000  flamethrow  330.000000  30.0000  30.0000\n",
       "490   Default  231.000000      falcon  231.000000  29.0000  29.0000\n",
       "565   Default  220.000000       heavi  220.000000  28.0000  28.0000\n",
       "5     Default  155.000000        bore  155.000000  27.0000  27.0000\n",
       "29    Default  310.000000      launch  310.000000  26.0000  26.0000\n",
       "30    Default  196.000000      rocket  196.000000  25.0000  25.0000\n",
       "542   Default   51.000000        hear   51.000000  24.0000  24.0000\n",
       "541   Default   49.000000       amber   49.000000  23.0000  23.0000\n",
       "105   Default   75.000000       power   75.000000  22.0000  22.0000\n",
       "288   Default   38.000000         day   38.000000  21.0000  21.0000\n",
       "1310  Default   43.000000       worth   43.000000  20.0000  20.0000\n",
       "442   Default   44.000000        home   44.000000  19.0000  19.0000\n",
       "6     Default  171.000000     compani  171.000000  18.0000  18.0000\n",
       "543   Default   54.000000       parti   54.000000  17.0000  17.0000\n",
       "317   Default   28.000000     announc   28.000000  16.0000  16.0000\n",
       "165   Default   55.000000       stock   55.000000  15.0000  15.0000\n",
       "277   Default   38.000000     station   38.000000  14.0000  14.0000\n",
       "228   Default   27.000000  california   27.000000  13.0000  13.0000\n",
       "1003  Default   57.000000        goal   57.000000  12.0000  12.0000\n",
       "694   Default   67.000000       earth   67.000000  11.0000  11.0000\n",
       "391   Default   28.000000        meet   28.000000  10.0000  10.0000\n",
       "68    Default   38.000000      tunnel   38.000000   9.0000   9.0000\n",
       "72    Default   45.000000      packag   45.000000   8.0000   8.0000\n",
       "546   Default   70.000000       world   70.000000   7.0000   7.0000\n",
       "50    Default   52.000000        like   52.000000   6.0000   6.0000\n",
       "320   Default   51.000000        sale   51.000000   5.0000   5.0000\n",
       "463   Default   22.000000      10,000   22.000000   4.0000   4.0000\n",
       "18    Default   61.000000      nasdaq   61.000000   3.0000   3.0000\n",
       "750   Default   22.000000     silicon   22.000000   2.0000   2.0000\n",
       "388   Default   44.000000        time   44.000000   1.0000   1.0000\n",
       "...       ...         ...         ...         ...      ...      ...\n",
       "302    Topic3   13.916449      driver   16.977102   0.9991  -5.8986\n",
       "1207   Topic3   14.751230    showroom   18.146536   0.9907  -5.8403\n",
       "50     Topic3   36.742123        like   52.395382   0.8430  -4.9277\n",
       "6      Topic3   95.511986     compani  171.380081   0.6133  -3.9724\n",
       "435    Topic3   25.035845      reveal   35.314125   0.8539  -5.3114\n",
       "1416   Topic3   13.859471       south   17.037901   0.9914  -5.9027\n",
       "367    Topic3   44.097954     million   71.785881   0.7106  -4.7453\n",
       "171    Topic3   18.760954      review   25.045477   0.9090  -5.5999\n",
       "1304   Topic3   17.517807     quarter   22.961910   0.9273  -5.6684\n",
       "261    Topic3   17.934528        work   23.754095   0.9169  -5.6449\n",
       "18     Topic3   36.515011      nasdaq   61.367702   0.6787  -4.9339\n",
       "379    Topic3   32.697765     batteri   55.203770   0.6742  -5.0444\n",
       "410    Topic3   30.712608       solar   53.651840   0.6400  -5.1070\n",
       "44     Topic3   84.976395        sell  237.642288   0.1695  -4.0893\n",
       "377    Topic3   34.864311      target   71.720505   0.4766  -4.9802\n",
       "37     Topic3   28.442406       video   55.193016   0.5349  -5.1838\n",
       "66     Topic3   44.089626        plan  120.828979   0.1897  -4.7454\n",
       "219    Topic3   46.126457     product  146.565308   0.0418  -4.7003\n",
       "268    Topic3   21.530750        deal   37.164253   0.6520  -5.4622\n",
       "371    Topic3   22.573755        come   41.001095   0.6011  -5.4149\n",
       "29     Topic3   60.740314      launch  310.794281  -0.4346  -4.4251\n",
       "19     Topic3   25.126120       share   56.155479   0.3937  -5.3078\n",
       "194    Topic3   28.318735      electr   84.972198   0.0991  -5.1881\n",
       "32     Topic3   20.679739     success   37.324501   0.6074  -5.5025\n",
       "694    Topic3   24.607836       earth   67.567261   0.1878  -5.3286\n",
       "538    Topic3   24.247063       delay   99.109886  -0.2100  -5.3434\n",
       "3      Topic3   26.688704         say  178.496033  -0.7024  -5.2474\n",
       "30     Topic3   24.736530      rocket  196.304749  -0.8735  -5.3234\n",
       "22     Topic3   20.059288       group   49.286366   0.2989  -5.5330\n",
       "565    Topic3   19.408712       heavi  220.240662  -1.2311  -5.5659\n",
       "\n",
       "[229 rows x 6 columns], token_table=      Topic      Freq       Term\n",
       "term                            \n",
       "463       2  0.957378     10,000\n",
       "970       3  0.823311       2020\n",
       "1608      1  0.837696       aapl\n",
       "1315      2  0.955643        abl\n",
       "1186      1  0.886325     achiev\n",
       "541       2  0.988712      amber\n",
       "745       2  0.864360     ambiti\n",
       "745       3  0.108045     ambiti\n",
       "163       1  0.736396    analyst\n",
       "163       2  0.061366    analyst\n",
       "163       3  0.214782    analyst\n",
       "317       3  0.967770    announc\n",
       "1013      3  0.886552     anymor\n",
       "1260      1  0.868368   asteroid\n",
       "1260      3  0.137111   asteroid\n",
       "721       1  0.219177  australia\n",
       "721       3  0.782773  australia\n",
       "213       1  0.107481      award\n",
       "213       2  0.824023      award\n",
       "213       3  0.071654      award\n",
       "379       1  0.163032    batteri\n",
       "379       2  0.235491    batteri\n",
       "379       3  0.597785    batteri\n",
       "1261      1  0.844251       belt\n",
       "1261      2  0.044434       belt\n",
       "1261      3  0.133303       belt\n",
       "1100      2  0.943304    benefit\n",
       "927       3  0.986324       bezo\n",
       "177       1  0.355219    billion\n",
       "177       2  0.603872    billion\n",
       "...     ...       ...        ...\n",
       "176       1  0.920525     uneven\n",
       "1356      1  0.982713     upbeat\n",
       "79        3  0.910143     upgrad\n",
       "751       1  0.149150     valley\n",
       "751       2  0.820324     valley\n",
       "37        1  0.326128      video\n",
       "37        2  0.163064      video\n",
       "37        3  0.507311      video\n",
       "892       1  0.941957    virtual\n",
       "892       2  0.047098    virtual\n",
       "892       3  0.047098    virtual\n",
       "348       1  0.565885      watch\n",
       "348       2  0.251505      watch\n",
       "348       3  0.188628      watch\n",
       "1421      2  0.811241     weapon\n",
       "1606      2  0.904164     welcom\n",
       "261       1  0.168392       work\n",
       "261       2  0.084196       work\n",
       "261       3  0.757764       work\n",
       "1223      2  0.943444     worker\n",
       "546       1  0.797556      world\n",
       "546       2  0.099695      world\n",
       "546       3  0.099695      world\n",
       "1310      1  0.983526      worth\n",
       "834       1  0.966052    wozniak\n",
       "834       3  0.050845    wozniak\n",
       "186       1  0.334379       year\n",
       "186       2  0.492768       year\n",
       "186       3  0.175989       year\n",
       "805       2  0.933971       zero\n",
       "\n",
       "[344 rows x 3 columns], R=30, lambda_step=0.01, plot_opts={'xlab': 'PC1', 'ylab': 'PC2'}, topic_order=[2, 1, 3])"
      ]
     },
     "execution_count": 169,
     "metadata": {},
     "output_type": "execute_result"
    }
   ],
   "source": [
    "pyLDAvis.enable_notebook()\n",
    "LDAvis_prepared = pyLDAvis.gensim.prepare(lda_model, bow_corpus, dictionary)\n",
    "LDAvis_prepared"
   ]
  },
  {
   "cell_type": "raw",
   "metadata": {},
   "source": [
    "Based on human judgement, it seems like the hyperparametrization doesn't make the topic better. Use baseline model. "
   ]
  }
 ],
 "metadata": {
  "kernelspec": {
   "display_name": "Python 3",
   "language": "python",
   "name": "python3"
  },
  "language_info": {
   "codemirror_mode": {
    "name": "ipython",
    "version": 3
   },
   "file_extension": ".py",
   "mimetype": "text/x-python",
   "name": "python",
   "nbconvert_exporter": "python",
   "pygments_lexer": "ipython3",
   "version": "3.7.3"
  }
 },
 "nbformat": 4,
 "nbformat_minor": 2
}
